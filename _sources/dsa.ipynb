{
 "cells": [
  {
   "cell_type": "markdown",
   "metadata": {},
   "source": [
    "# Data Structures"
   ]
  },
  {
   "cell_type": "markdown",
   "metadata": {},
   "source": [
    "1. [Linked List](#linked-list)\n",
    "2. [Binary Search Tree](#binary-search-tree)\n",
    "3. [n-ary Tree](#n-ary-tree)\n",
    "4. [Heap](#heaps)\n",
    "5. [Trie](#trie)"
   ]
  },
  {
   "cell_type": "markdown",
   "metadata": {},
   "source": [
    "## Linked List"
   ]
  },
  {
   "cell_type": "markdown",
   "metadata": {},
   "source": [
    "- Linked lists are a data structure that store a collection of elements. \n",
    "- Each element is a node that contains a value and a pointer to the next node. \n",
    "- The first node is called the head, and the last node is called the tail. \n",
    "- The tail node points to `None`."
   ]
  },
  {
   "cell_type": "code",
   "execution_count": 8,
   "metadata": {},
   "outputs": [
    {
     "name": "stdout",
     "output_type": "stream",
     "text": [
      "List: 4\n",
      "3\n",
      "2\n",
      "1\n",
      "List: 4\n",
      "2\n",
      "1\n"
     ]
    }
   ],
   "source": [
    "class Node:\n",
    "    def __init__(self, data):\n",
    "        self.data = data \n",
    "        self.next = None\n",
    "\n",
    "class LinkedList(Node):\n",
    "    def __init__(self):\n",
    "        self.head = None # head is the first node in the list\n",
    "\n",
    "    def insert(self, data):\n",
    "        if self.head is None: # if the list is empty\n",
    "            self.head = Node(data)\n",
    "        else: # if the list is not empty\n",
    "            new_node = Node(data)\n",
    "            new_node.next = self.head # Insert the new node at the beginning of the list\n",
    "            self.head = new_node\n",
    "\n",
    "    def print_list(self):\n",
    "        temp = self.head \n",
    "        print(\"List: \", end=\"\")\n",
    "        while temp:\n",
    "            print(temp.data)\n",
    "            temp = temp.next\n",
    "\n",
    "    def delete(self, data):\n",
    "        if self.head is None:\n",
    "            print(\"List is empty\")\n",
    "            return\n",
    "        if self.head.data == data: # if the node to be deleted is the first node\n",
    "            self.head = self.head.next\n",
    "            return\n",
    "        temp = self.head\n",
    "        while temp.next is not None:\n",
    "            if temp.next.data == data:\n",
    "                break\n",
    "            temp = temp.next\n",
    "        if temp.next is None:\n",
    "            print(\"Node not found\")\n",
    "        else:\n",
    "            temp.next = temp.next.next\n",
    "\n",
    "\n",
    "if __name__ == \"__main__\":\n",
    "    llist = LinkedList()\n",
    "    llist.insert(1)\n",
    "    llist.insert(2)\n",
    "    llist.insert(3)\n",
    "    llist.insert(4)\n",
    "    llist.print_list()\n",
    "    llist.delete(3)\n",
    "    llist.print_list()"
   ]
  },
  {
   "cell_type": "markdown",
   "metadata": {},
   "source": [
    "## Binary Tree"
   ]
  },
  {
   "cell_type": "code",
   "execution_count": 2,
   "metadata": {},
   "outputs": [
    {
     "name": "stdout",
     "output_type": "stream",
     "text": [
      "1\n",
      "3\n",
      "5\n",
      "None\n",
      "None\n",
      "7\n",
      "9\n"
     ]
    }
   ],
   "source": [
    "class Node:\n",
    "    def __init__(self, data):\n",
    "        self.data = data\n",
    "        self.right = None\n",
    "        self.left = None\n",
    "\n",
    "\n",
    "class BinaryTree(Node):\n",
    "    def __init__(self):\n",
    "        self.root = None\n",
    "    \n",
    "    def populate(self, arr):\n",
    "        '''\n",
    "        arr: list of integers in inorder traversal, None represents null node. \n",
    "        '''\n",
    "\n",
    "        def _populate(arr, start, end):\n",
    "            if start > end:\n",
    "                return None\n",
    "            root = Node(arr[start])\n",
    "            root.left = _populate(arr, start*2+1, end)\n",
    "            root.right = _populate(arr, start*2+2, end)\n",
    "            return root\n",
    "\n",
    "        self.root = _populate(arr, 0, len(arr)-1)\n",
    "\n",
    "\n",
    "    \n",
    "    def print_tree(self):\n",
    "        def _print_tree(root):\n",
    "            if root is None:\n",
    "                return\n",
    "            print(root.data)\n",
    "            _print_tree(root.left)\n",
    "            _print_tree(root.right)\n",
    "\n",
    "        _print_tree(self.root)\n",
    "\n",
    "if __name__ == \"__main__\":\n",
    "    arr = [1, 3, None, 5, None, 7, 9]\n",
    "    tree = BinaryTree()\n",
    "    tree.populate(arr)\n",
    "    tree.print_tree()    "
   ]
  },
  {
   "cell_type": "markdown",
   "metadata": {},
   "source": [
    "## Binary Search Tree\n",
    "\n",
    "- A binary search tree is a tree data structure in which each node has at most two children, which are referred to as the left child and the right child.\n",
    "- The left subtree of a node contains only nodes with keys less than the node's value.\n",
    "- The right subtree of a node contains only nodes with keys greater than the node's value.\n",
    "- The left and right subtree each must also be a binary search tree."
   ]
  },
  {
   "cell_type": "code",
   "execution_count": 5,
   "metadata": {},
   "outputs": [
    {
     "name": "stdout",
     "output_type": "stream",
     "text": [
      "2\n",
      "5\n",
      "7\n",
      "10\n",
      "12\n",
      "15\n",
      "17\n"
     ]
    }
   ],
   "source": [
    "class Node:\n",
    "    def __init__(self, data):\n",
    "        self.data = data \n",
    "        self.right = None\n",
    "        self.left = None\n",
    "    \n",
    "class BinarySearchTree(Node):\n",
    "    def __init__(self):\n",
    "        self.root = None\n",
    "    \n",
    "    def insert(self, data):\n",
    "        ''' Insert a node in the BST '''\n",
    "        if self.root is None:\n",
    "            self.root = Node(data)\n",
    "        else:\n",
    "            self._insert(data, self.root)\n",
    "    \n",
    "    def _insert(self, data, curr_node): \n",
    "        ''' Recursive helper function to insert a node in the BST '''\n",
    "        if data < curr_node.data:\n",
    "            if curr_node.left is None:\n",
    "                curr_node.left = Node(data)\n",
    "            else:\n",
    "                self._insert(data, curr_node.left)\n",
    "        elif data > curr_node.data:\n",
    "            if curr_node.right is None:\n",
    "                curr_node.right = Node(data)\n",
    "            else:\n",
    "                self._insert(data, curr_node.right)\n",
    "        else:\n",
    "            print(\"Value already in tree\")\n",
    "    \n",
    "    def print_tree(self, traversal_type=\"inorder\"):\n",
    "        '''\n",
    "        Print the tree in the specified traversal type\n",
    "        traversal_type: inorder, preorder, postorder\n",
    "        '''\n",
    "        if self.root is not None:\n",
    "            self._print_tree(self.root, traversal_type)\n",
    "    \n",
    "    def _print_tree(self, curr_node, traversal_type):\n",
    "        \"\"\"\n",
    "        Recursive helper function to print the tree in the specified traversal type\n",
    "        \"\"\"\n",
    "        if curr_node is not None:\n",
    "            if traversal_type == \"inorder\":\n",
    "                self._print_tree(curr_node.left, traversal_type)\n",
    "                print(curr_node.data)\n",
    "                self._print_tree(curr_node.right, traversal_type)\n",
    "            elif traversal_type == \"preorder\":\n",
    "                print(curr_node.data)\n",
    "                self._print_tree(curr_node.left, traversal_type)\n",
    "                self._print_tree(curr_node.right, traversal_type)\n",
    "            elif traversal_type == \"postorder\":\n",
    "                self._print_tree(curr_node.left, traversal_type)\n",
    "                self._print_tree(curr_node.right, traversal_type)\n",
    "                print(curr_node.data)\n",
    "\n",
    "if __name__ == \"__main__\":\n",
    "    tree = BinarySearchTree()\n",
    "    tree.insert(10)\n",
    "    tree.insert(5)\n",
    "    tree.insert(15)\n",
    "    tree.insert(2)\n",
    "    tree.insert(7)\n",
    "    tree.insert(12)\n",
    "    tree.insert(17)\n",
    "    tree.print_tree(\"inorder\")\n"
   ]
  },
  {
   "cell_type": "markdown",
   "metadata": {},
   "source": [
    "## n-ary Tree\n",
    "- A special case of a tree, where each node $i$ has $n_i$ children."
   ]
  },
  {
   "cell_type": "code",
   "execution_count": 3,
   "metadata": {},
   "outputs": [
    {
     "name": "stdout",
     "output_type": "stream",
     "text": [
      "1\n",
      "2\n",
      "3\n",
      "4\n",
      "5\n",
      "6\n"
     ]
    }
   ],
   "source": [
    "class Node:\n",
    "    def __init__(self, data):\n",
    "        self.data = data\n",
    "        self.children = []\n",
    "        \n",
    "class SpecialBinaryTree(Node):\n",
    "    def __init__(self):\n",
    "        self.root = None\n",
    "    \n",
    "    def insert(self, data):\n",
    "        if self.root is None:\n",
    "            self.root = Node(data)\n",
    "        else:\n",
    "            new_node = Node(data)\n",
    "            self.root.children.append(new_node)\n",
    "                \n",
    "        \n",
    "\n",
    "    def print_tree(self, node):\n",
    "        if node is None:\n",
    "            return\n",
    "        print(node.data)\n",
    "        for child in node.children:\n",
    "            self.print_tree(child)\n",
    "            \n",
    "if __name__ == \"__main__\":\n",
    "    tree = SpecialBinaryTree()\n",
    "    tree.insert(1)\n",
    "    tree.insert(2)\n",
    "    tree.insert(3)\n",
    "    tree.insert(4)\n",
    "    tree.insert(5)\n",
    "    tree.insert(6)\n",
    "    tree.print_tree(tree.root)"
   ]
  },
  {
   "cell_type": "markdown",
   "metadata": {},
   "source": [
    "More TODO:\n",
    "- [x] Implement a n-children tree\n",
    "- [ ] Implement a n-children tree with a parent pointer\n",
    "- [ ] Implement an insert method with a parent pointer\n",
    "- [ ] Implement a delete method "
   ]
  },
  {
   "cell_type": "markdown",
   "metadata": {},
   "source": [
    "## Heaps"
   ]
  },
  {
   "cell_type": "markdown",
   "metadata": {},
   "source": [
    "\n",
    "\n",
    "-  A heap is a complete binary tree, where each node is greater than all of its children.\n",
    "-  A heap is implemented using a list.\n",
    "-  The following operations are supported:\n",
    "-  push(x) -- Push element x onto heap.\n",
    "-  pop() -- Removes the element on top of the heap.\n",
    "-  top() -- Get the top element.\n",
    "-  empty() -- Return whether the heap is empty.\n",
    "\n",
    "\n",
    "**Note**: Minimum heap is the only heap that is implemented in Python."
   ]
  },
  {
   "cell_type": "markdown",
   "metadata": {},
   "source": [
    "`heapify()` is a function that takes a list and turns it into a heap."
   ]
  },
  {
   "cell_type": "code",
   "execution_count": null,
   "metadata": {},
   "outputs": [
    {
     "name": "stdout",
     "output_type": "stream",
     "text": [
      "After heapify:  [5, 10, 11, 21, 12]\n"
     ]
    }
   ],
   "source": [
    "import heapq\n",
    "\n",
    "li = [10, 21, 11, 5,12]\n",
    "heapq.heapify(li)\n",
    "\n",
    "print(\"After heapify: \", li)"
   ]
  },
  {
   "cell_type": "code",
   "execution_count": null,
   "metadata": {},
   "outputs": [
    {
     "name": "stdout",
     "output_type": "stream",
     "text": [
      "After appending 1:  [1, 10, 5, 21, 12, 11]\n"
     ]
    }
   ],
   "source": [
    "li.append(1)\n",
    "heapq.heapify(li)\n",
    "print(\"After appending 1: \", li)\n"
   ]
  },
  {
   "cell_type": "markdown",
   "metadata": {},
   "source": [
    "`heappop()` is a function that pops the smallest element from the heap."
   ]
  },
  {
   "cell_type": "code",
   "execution_count": null,
   "metadata": {},
   "outputs": [
    {
     "name": "stdout",
     "output_type": "stream",
     "text": [
      "After popping:  [5, 10, 11, 21, 12]\n"
     ]
    }
   ],
   "source": [
    "heapq.heappop(li)\n",
    "print(\"After popping: \", li)"
   ]
  },
  {
   "cell_type": "markdown",
   "metadata": {},
   "source": [
    "`heapq.heappush(heap, item)` pushes the value item onto the heap, maintaining the heap invariant."
   ]
  },
  {
   "cell_type": "code",
   "execution_count": null,
   "metadata": {},
   "outputs": [
    {
     "name": "stdout",
     "output_type": "stream",
     "text": [
      "After pushing 2:  [2, 10, 5, 21, 12, 11]\n"
     ]
    }
   ],
   "source": [
    "heapq.heappush(li, 2)\n",
    "print(\"After pushing 2: \", li)"
   ]
  },
  {
   "cell_type": "markdown",
   "metadata": {},
   "source": [
    "`heapq.heappushpop(heap, item)` pushes the value item onto the heap, and then pops and returns the smallest element from the heap. The combined action runs more efficiently than `heappush()` followed by a separate call to `heappop()`."
   ]
  },
  {
   "cell_type": "code",
   "execution_count": null,
   "metadata": {},
   "outputs": [
    {
     "name": "stdout",
     "output_type": "stream",
     "text": [
      "After pushingpop 3:  [3, 10, 5, 21, 12, 11]\n"
     ]
    }
   ],
   "source": [
    "heapq.heappushpop(li, 3)\n",
    "print(\"After pushingpop 3: \", li)"
   ]
  },
  {
   "cell_type": "markdown",
   "metadata": {},
   "source": [
    "## Trie"
   ]
  },
  {
   "cell_type": "markdown",
   "metadata": {},
   "source": [
    "A trie is a nested tree data structure that stores strings. It is mostly used for searching strings with a common prefix.\n",
    "\n",
    "Structure of a trie:\n",
    "- A `TrieNode` can have 26 children nodes of type `TrieNode`. \n",
    "- Each node represents a letter in the alphabet.\n",
    "- `is_word` is a boolean that indicates whether the node is the end of a word.\n",
    "\n",
    "\n",
    "\n",
    "\n"
   ]
  },
  {
   "cell_type": "code",
   "execution_count": 1,
   "metadata": {},
   "outputs": [
    {
     "name": "stdout",
     "output_type": "stream",
     "text": [
      "True\n",
      "False\n",
      "True\n",
      "True\n",
      "app\n",
      "apple\n",
      "banana\n"
     ]
    }
   ],
   "source": [
    "class TrieNode:\n",
    "    def __init__(self):\n",
    "        self.children = {}\n",
    "        self.is_end = False\n",
    "\n",
    "class Trie:\n",
    "    def __init__(self):\n",
    "        self.root = TrieNode()\n",
    "    \n",
    "    def insert(self, word):\n",
    "        curr_node = self.root\n",
    "        for char in word:\n",
    "            if char not in curr_node.children: \n",
    "                curr_node.children[char] = TrieNode() \n",
    "            curr_node = curr_node.children[char]\n",
    "        curr_node.is_end = True\n",
    "    \n",
    "    def search(self, word):\n",
    "        curr_node = self.root\n",
    "        for char in word:\n",
    "            if char not in curr_node.children:\n",
    "                return False\n",
    "            curr_node = curr_node.children[char]\n",
    "        return curr_node.is_end\n",
    "    \n",
    "    def starts_with(self, prefix):\n",
    "        curr_node = self.root\n",
    "        for char in prefix:\n",
    "            if char not in curr_node.children:\n",
    "                return False\n",
    "            curr_node = curr_node.children[char]\n",
    "        return True\n",
    "    \n",
    "    def print_tree(self):\n",
    "        def print_tree_helper(curr_node, word):\n",
    "            if curr_node.is_end:\n",
    "                print(word)\n",
    "            for char in curr_node.children:\n",
    "                print_tree_helper(curr_node.children[char], word + char)\n",
    "        print_tree_helper(self.root, \"\")\n",
    "\n",
    "if __name__ == \"__main__\":\n",
    "    trie = Trie()\n",
    "    trie.insert(\"apple\")\n",
    "\n",
    "    print(trie.search(\"apple\"))\n",
    "    print(trie.search(\"app\"))\n",
    "    \n",
    "    print(trie.starts_with(\"app\"))\n",
    "    \n",
    "    trie.insert(\"app\")\n",
    "    \n",
    "    print(trie.search(\"app\"))\n",
    "\n",
    "    trie.insert(\"banana\")\n",
    "    \n",
    "    trie.print_tree()"
   ]
  },
  {
   "cell_type": "code",
   "execution_count": null,
   "metadata": {},
   "outputs": [],
   "source": []
  }
 ],
 "metadata": {
  "kernelspec": {
   "display_name": "Python 3.9.10 ('base')",
   "language": "python",
   "name": "python3"
  },
  "language_info": {
   "codemirror_mode": {
    "name": "ipython",
    "version": 3
   },
   "file_extension": ".py",
   "mimetype": "text/x-python",
   "name": "python",
   "nbconvert_exporter": "python",
   "pygments_lexer": "ipython3",
   "version": "3.9.10"
  },
  "orig_nbformat": 4,
  "vscode": {
   "interpreter": {
    "hash": "2a62eb7397e95947974711ad7e3aa515539411275f2fd01cf7995f5d30a231c5"
   }
  }
 },
 "nbformat": 4,
 "nbformat_minor": 2
}
