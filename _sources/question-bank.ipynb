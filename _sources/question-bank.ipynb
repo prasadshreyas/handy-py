{
 "cells": [
  {
   "cell_type": "markdown",
   "metadata": {},
   "source": [
    "# Leetcode Question Bank"
   ]
  },
  {
   "cell_type": "markdown",
   "metadata": {},
   "source": [
    "## Two Pointers"
   ]
  },
  {
   "cell_type": "code",
   "execution_count": 27,
   "metadata": {},
   "outputs": [
    {
     "name": "stdout",
     "output_type": "stream",
     "text": [
      "[0, 1]\n",
      "[0, 1]\n"
     ]
    }
   ],
   "source": [
    "# 1. Two Sum\n",
    "\n",
    "def twoSum(nums, target):\n",
    "    \"\"\"\n",
    "    :type nums: List[int]\n",
    "    :type target: int\n",
    "    :rtype: List[int]\n",
    "    \"\"\"\n",
    "    # O(n^2)\n",
    "    for i in range(len(nums)): \n",
    "        for j in range(i+1, len(nums)): \n",
    "            if nums[i] + nums[j] == target:\n",
    "                return [i, j]\n",
    "    return []\n",
    "\n",
    "def twoSum2(nums, target):\n",
    "    \"\"\"\n",
    "    :type nums: List[int]\n",
    "    :type target: int\n",
    "    :rtype: List[int]\n",
    "    \"\"\"\n",
    "    # O(n)\n",
    "    d = {} # key: num, value: index\n",
    "    for i in range(len(nums)):\n",
    "        if nums[i] in d:\n",
    "            return [d[nums[i]], i]\n",
    "        d[target - nums[i]] = i\n",
    "    return []\n",
    "\n",
    "print(twoSum([2, 7, 11, 15], 9))\n",
    "\n",
    "print(twoSum2([2, 7, 11, 15], 9))"
   ]
  },
  {
   "cell_type": "code",
   "execution_count": 25,
   "metadata": {},
   "outputs": [
    {
     "data": {
      "text/plain": [
       "[1, 2]"
      ]
     },
     "execution_count": 25,
     "metadata": {},
     "output_type": "execute_result"
    }
   ],
   "source": [
    "# 167. Two Sum II - Input Array Is Sorted\n",
    "\n",
    "def twoSum(numbers, target):\n",
    "    i = 0\n",
    "    j = len(numbers) - 1\n",
    "    \n",
    "    while(i<j):\n",
    "        if target > numbers[i] + numbers[j]:\n",
    "            i +=1\n",
    "        elif target < numbers[i] + numbers[j]:\n",
    "            j -= 1\n",
    "        else:\n",
    "            return [i+1,j+1]\n",
    "    \n",
    "    return [-1,-1] # not found\n",
    "\n",
    "twoSum([2,7,11,15],9)"
   ]
  },
  {
   "cell_type": "code",
   "execution_count": 45,
   "metadata": {},
   "outputs": [
    {
     "data": {
      "text/plain": [
       "[[[-1, 0, 1]], [[-1, 2, -1]], [[0, 1, -1]]]"
      ]
     },
     "execution_count": 45,
     "metadata": {},
     "output_type": "execute_result"
    }
   ],
   "source": [
    "# 15. 3Sum\n",
    "\n",
    "def threeSum(nums): # Does not check for duplicates\n",
    "    \"\"\"\n",
    "    :type nums: List[int]\n",
    "    :rtype: List[List[int]]\n",
    "    \"\"\"\n",
    "    # O(n^3)\n",
    "    res = []\n",
    "    for i in range(len(nums)):\n",
    "        for j in range(i+1, len(nums)):\n",
    "            for k in range(j+1, len(nums)):\n",
    "                if nums[i] + nums[j] + nums[k] == 0:\n",
    "                    res.append([[nums[i], nums[j], nums[k]]])\n",
    "\n",
    "    return res\n",
    "\n",
    "threeSum([-1,0,1,2,-1,-4])"
   ]
  },
  {
   "cell_type": "code",
   "execution_count": 41,
   "metadata": {},
   "outputs": [
    {
     "data": {
      "text/plain": [
       "[[-1, -1, 2], [-1, 0, 1]]"
      ]
     },
     "execution_count": 41,
     "metadata": {},
     "output_type": "execute_result"
    }
   ],
   "source": [
    "def threeSum2(nums): # Checks for duplicates\n",
    "    \"\"\"\n",
    "    Brute Force \n",
    "\n",
    "    :type nums: List[int]\n",
    "    :rtype: List[List[int]]\n",
    "    \"\"\"\n",
    "    # O(n^3)\n",
    "    res = []\n",
    "    nums.sort()\n",
    "    for i in range(len(nums)-2):\n",
    "        if i > 0 and nums[i] == nums[i-1]: # skip duplicates\n",
    "            continue\n",
    "        for j in range(i+1, len(nums)-1):\n",
    "            if j > i+1 and nums[j] == nums[j-1]: # skip duplicates\n",
    "                continue\n",
    "            for k in range(j+1, len(nums)):\n",
    "                if k > j+1 and nums[k] == nums[k-1]: # skip duplicates\n",
    "                    continue\n",
    "                if nums[i] + nums[j] + nums[k] == 0:\n",
    "                    res.append([nums[i], nums[j], nums[k]])\n",
    "    return res\n",
    "\n",
    "threeSum2([-1,0,1,2,-1,-4])"
   ]
  },
  {
   "cell_type": "code",
   "execution_count": 46,
   "metadata": {},
   "outputs": [
    {
     "data": {
      "text/plain": [
       "[[-1, -1, 2], [-1, 0, 1]]"
      ]
     },
     "execution_count": 46,
     "metadata": {},
     "output_type": "execute_result"
    }
   ],
   "source": [
    "def threeSum3(nums): # Checks for duplicates but uses a set to store the numbers\n",
    "    \"\"\"\n",
    "    :type nums: List[int]\n",
    "    :rtype: List[List[int]]\n",
    "    \"\"\"\n",
    "    # O(n^2)\n",
    "\n",
    "    nums.sort()\n",
    "    res = []\n",
    "    for i in range(len(nums)-2):\n",
    "        if i > 0 and nums[i] == nums[i-1]: # skip duplicates\n",
    "            continue\n",
    "        \n",
    "        # Two pointers to find the sum of three numbers\n",
    "\n",
    "        j = i + 1 # start from the next index\n",
    "        k = len(nums) - 1 # start from the end\n",
    "        while(j < k): \n",
    "            if nums[i] + nums[j] + nums[k] < 0:\n",
    "                j += 1\n",
    "            elif nums[i] + nums[j] + nums[k] > 0:\n",
    "                k -= 1\n",
    "            else:\n",
    "                res.append([nums[i], nums[j], nums[k]])\n",
    "                while(j < k and nums[j] == nums[j+1]): # skip duplicates\n",
    "                    j += 1\n",
    "                while(j < k and nums[k] == nums[k-1]): # skip duplicates\n",
    "                    k -= 1\n",
    "                j += 1\n",
    "                k -= 1\n",
    "    return res\n",
    "\n",
    "threeSum3([-1,0,1,2,-1,-4])"
   ]
  },
  {
   "cell_type": "code",
   "execution_count": 47,
   "metadata": {},
   "outputs": [
    {
     "data": {
      "text/plain": [
       "2"
      ]
     },
     "execution_count": 47,
     "metadata": {},
     "output_type": "execute_result"
    }
   ],
   "source": [
    "# 259. 3Sum Smaller\n",
    "\n",
    "def threeSumSmaller(nums, target):\n",
    "    \"\"\"\n",
    "    :type nums: List[int]\n",
    "    :type target: int\n",
    "    :rtype: int\n",
    "    \"\"\"\n",
    "    # O(n^3)\n",
    "    res = 0\n",
    "    for i in range(len(nums)):\n",
    "        for j in range(i+1, len(nums)):\n",
    "            for k in range(j+1, len(nums)):\n",
    "                if nums[i] + nums[j] + nums[k] < target:\n",
    "                    res += 1\n",
    "    return res\n",
    "\n",
    "threeSumSmaller([-2,0,1,3], 2)\n"
   ]
  },
  {
   "cell_type": "markdown",
   "metadata": {},
   "source": [
    "## Linked Lists \n"
   ]
  },
  {
   "cell_type": "code",
   "execution_count": 16,
   "metadata": {},
   "outputs": [],
   "source": [
    "# 2. Add Two Numbers\n",
    "\n",
    "# You are given two non-empty linked lists representing two non-negative integers. The digits are stored in reverse order, and each of their nodes contains a single digit. \n",
    "# Add the two numbers and return the sum as a linked list.\n",
    "# You may assume the two numbers do not contain any leading zero, except the number 0 itself.\n",
    "\n",
    "class ListNode:\n",
    "    def __init__(self, val=0, next=None):\n",
    "        self.val = val\n",
    "        self.next = next\n",
    "\n",
    "class Solution:\n",
    "    def addTwoNumbers(self, l1, l2):\n",
    "        carry = 0\n",
    "        head = ListNode(0)\n",
    "        current = head\n",
    "        while l1 or l2 or carry:\n",
    "            if l1:\n",
    "                carry += l1.val\n",
    "                l1 = l1.next\n",
    "            if l2:\n",
    "                carry += l2.val\n",
    "                l2 = l2.next\n",
    "            current.next = ListNode(carry % 10)\n",
    "            current = current.next\n",
    "            carry //= 10\n",
    "        return head.next\n",
    "\n"
   ]
  },
  {
   "cell_type": "markdown",
   "metadata": {},
   "source": [
    "## String\n"
   ]
  },
  {
   "cell_type": "code",
   "execution_count": 3,
   "metadata": {},
   "outputs": [
    {
     "data": {
      "text/plain": [
       "3"
      ]
     },
     "execution_count": 3,
     "metadata": {},
     "output_type": "execute_result"
    }
   ],
   "source": [
    "# 3. Longest Substring Without Repeating Characters\n",
    "\n",
    "def length_of_longest_substring(s):\n",
    "    if len(s) == 0:\n",
    "        return 0\n",
    "    max_length = 1\n",
    "    current_length = 1\n",
    "    for i in range(1, len(s)):\n",
    "        if s[i] in s[:i]:\n",
    "            current_length = 1\n",
    "        else:\n",
    "            current_length += 1\n",
    "            if current_length > max_length:\n",
    "                max_length = current_length\n",
    "    return max_length\n",
    "\n",
    "length_of_longest_substring(\"abcabcbb\")"
   ]
  },
  {
   "cell_type": "markdown",
   "metadata": {},
   "source": [
    "## Arrays"
   ]
  },
  {
   "cell_type": "code",
   "execution_count": 5,
   "metadata": {},
   "outputs": [
    {
     "name": "stdout",
     "output_type": "stream",
     "text": [
      "[5, 6, 7, 1, 2, 3, 4]\n"
     ]
    }
   ],
   "source": [
    "# 189. Rotate Array\n",
    "\n",
    "def rotate(nums, k):\n",
    "    k %= len(nums)\n",
    "    for i in range(k):\n",
    "        previous = nums[-1]\n",
    "        for j in range(len(nums)):\n",
    "            nums[j], previous = previous, nums[j]\n",
    "    print(nums) \n",
    "\n",
    "rotate([1,2,3,4,5,6,7], 3)"
   ]
  },
  {
   "cell_type": "code",
   "execution_count": 8,
   "metadata": {},
   "outputs": [
    {
     "data": {
      "text/plain": [
       "[5, 6, 7, 1, 2, 3, 4]"
      ]
     },
     "execution_count": 8,
     "metadata": {},
     "output_type": "execute_result"
    }
   ],
   "source": [
    "def rotate(nums, k):    \n",
    "    n = len(nums)\n",
    "    a = [0] * n\n",
    "    for i in range(n):\n",
    "        a[(i + k) % n] = nums[i]\n",
    "    \n",
    "    nums[:] = a\n",
    "    return nums\n",
    "\n",
    "rotate([1,2,3,4,5,6,7], 3)"
   ]
  },
  {
   "cell_type": "code",
   "execution_count": 14,
   "metadata": {},
   "outputs": [
    {
     "name": "stdout",
     "output_type": "stream",
     "text": [
      "[5, 6, 7, 1, 2, 3, 4]\n"
     ]
    }
   ],
   "source": [
    "def rotate_in_place(a, k):\n",
    "    if k > len(a):\n",
    "        k = k % len(a)\n",
    "    a[:] = a[k+1:] + a[:k+1]\n",
    "    return a\n",
    "\n",
    "print(rotate_in_place([1,2,3,4,5,6,7], 3))"
   ]
  },
  {
   "cell_type": "code",
   "execution_count": 15,
   "metadata": {},
   "outputs": [
    {
     "data": {
      "text/plain": [
       "10.5"
      ]
     },
     "execution_count": 15,
     "metadata": {},
     "output_type": "execute_result"
    }
   ],
   "source": [
    "# Median of two sorted arrays\n",
    "\n",
    "def find_median_sorted_arrays(nums1, nums2):\n",
    "    # Brute Force: Run time complexity: O(m+n)log(m+n)\n",
    "\n",
    "    nums = nums1 + nums2\n",
    "    nums.sort()\n",
    "    if len(nums) % 2 == 0:\n",
    "        return (nums[len(nums)//2] + nums[len(nums)//2 - 1]) / 2\n",
    "    else:\n",
    "        return nums[len(nums)//2]\n",
    "    \n",
    "\n",
    "    \n",
    "find_median_sorted_arrays([1,2,3,4,5,6,7,8,9,10], [11,12,13,14,15,16,17,18,19,20])\n"
   ]
  },
  {
   "cell_type": "code",
   "execution_count": 23,
   "metadata": {},
   "outputs": [
    {
     "data": {
      "text/plain": [
       "10.5"
      ]
     },
     "execution_count": 23,
     "metadata": {},
     "output_type": "execute_result"
    }
   ],
   "source": [
    "# 4. Median of Two Sorted Arrays\n",
    "\n",
    "def findMedianSortedArrays(nums1, nums2):\n",
    "    m, n = len(nums1), len(nums2)\n",
    "    # if m > n, then nums1 is longer than nums2\n",
    "    if m > n:\n",
    "        nums1, nums2, m, n = nums2, nums1, n, m\n",
    "    if n == 0:\n",
    "        raise ValueError\n",
    "    # now m <= n\n",
    "    imin, imax, half_len = 0, m, (m + n + 1) // 2\n",
    "    while imin <= imax:\n",
    "        i = (imin + imax) // 2\n",
    "        j = half_len - i\n",
    "        # i is too small, then i must increase\n",
    "        if i < m and nums2[j - 1] > nums1[i]:\n",
    "            imin = i + 1\n",
    "        # i is too big, then i must decrease\n",
    "        elif i > 0 and nums1[i - 1] > nums2[j]:\n",
    "            imax = i - 1\n",
    "        # i is perfect\n",
    "        else:\n",
    "            if i == 0:\n",
    "                max_of_left = nums2[j - 1]\n",
    "            elif j == 0:\n",
    "                max_of_left = nums1[i - 1]\n",
    "            else:\n",
    "                max_of_left = max(nums1[i - 1], nums2[j - 1])\n",
    "            if (m + n) % 2 == 1:\n",
    "                return max_of_left\n",
    "            if i == m:\n",
    "                min_of_right = nums2[j]\n",
    "            elif j == n:\n",
    "                min_of_right = nums1[i]\n",
    "            else:\n",
    "                min_of_right = min(nums1[i], nums2[j])\n",
    "            return (max_of_left + min_of_right) / 2.0\n",
    "\n",
    "\n",
    "\n",
    "findMedianSortedArrays([1,2,3,4,5,6,7,8,9,10], [11,12,13,14,15,16,17,18,19,20])"
   ]
  },
  {
   "cell_type": "markdown",
   "metadata": {},
   "source": [
    "## Matrix Problems"
   ]
  },
  {
   "cell_type": "code",
   "execution_count": null,
   "metadata": {},
   "outputs": [],
   "source": [
    "# Boundary Traversal\n",
    "\n",
    "# Given a mxn 2D matrix, traverse the boundary of the matrix and print the elements.\n",
    "# The boundary is defined as the edge of the matrix plus the four corners.\n",
    "\n",
    "# Example:\n",
    "# Input:\n",
    "# 1 2 3\n",
    "# 4 5 6\n",
    "# 7 8 9\n",
    "# Output:\n",
    "# 1 2 3 6 9 8 7 4\n",
    "\n",
    "def boundaryTraversal(matrix):\n",
    "    # Traverse top row\n",
    "    for i in range(len(matrix[0])):\n",
    "        print(matrix[0][i], end=\" \")\n",
    "    # Traverse right column\n",
    "    for i in range(1, len(matrix)):\n",
    "        print(matrix[i][len(matrix[0])-1], end=\" \")\n",
    "    # Traverse bottom row\n",
    "    for i in range(len(matrix[0])-2, -1, -1):\n",
    "        print(matrix[len(matrix)-1][i], end=\" \")\n",
    "    # Traverse left column\n",
    "    for i in range(len(matrix)-2, 0, -1):\n",
    "        print(matrix[i][0], end=\" \")\n",
    "    \n",
    "boundaryTraversal([[1,2,3],[4,5,6],[7,8,9]])"
   ]
  },
  {
   "cell_type": "code",
   "execution_count": 8,
   "metadata": {},
   "outputs": [
    {
     "data": {
      "text/plain": [
       "[[7, 4, 1], [8, 5, 2], [9, 6, 3]]"
      ]
     },
     "execution_count": 8,
     "metadata": {},
     "output_type": "execute_result"
    }
   ],
   "source": [
    "# Rotate Image in place without using NumPy or reverse()\n",
    "# Matrix is a square matrix of size n x n\n",
    "\n",
    "def rotate(matrix):\n",
    "    left = 0\n",
    "    right = len(matrix) -1\n",
    "    while left < right:\n",
    "        for i in range(left, right):\n",
    "            top, bottom = left, right\n",
    "\n",
    "            # Save the top left element\n",
    "            temp = matrix[top][left+i]\n",
    "\n",
    "            # move bottom left into top left\n",
    "            matrix[top][left+i] = matrix[bottom-i][left]\n",
    "\n",
    "            # move bottom right into bottom left\n",
    "            matrix[bottom-i][left] = matrix[bottom][right-i]\n",
    "\n",
    "            # move top right into bottom right\n",
    "            matrix[bottom][right-i] = matrix[top+i][right]\n",
    "\n",
    "            # move top left into top right\n",
    "            matrix[top+i][right] = temp\n",
    "            \n",
    "\n",
    "        left += 1\n",
    "        right -= 1\n",
    "\n",
    "    return matrix\n",
    "\n",
    "\n",
    "rotate([[1,2,3],[4,5,6],[7,8,9]])\n",
    "    \n",
    "\n"
   ]
  },
  {
   "cell_type": "code",
   "execution_count": 18,
   "metadata": {},
   "outputs": [
    {
     "data": {
      "text/plain": [
       "array([[7, 4, 1],\n",
       "       [8, 5, 2],\n",
       "       [9, 6, 3]])"
      ]
     },
     "execution_count": 18,
     "metadata": {},
     "output_type": "execute_result"
    }
   ],
   "source": [
    "# Using NumPy\n",
    "# Solution:\n",
    "# - First transpose the matrix\n",
    "# - Then reverse each row\n",
    "import numpy as np\n",
    "\n",
    "def rotate(matrix):\n",
    "    n = len(matrix)\n",
    "    matrix = np.array(matrix)\n",
    "    matrix =  matrix.T\n",
    "\n",
    "    # Reverse each row\n",
    "    for i in range(n):\n",
    "        matrix[i] = matrix[i][::-1]\n",
    "    return matrix\n",
    "\n",
    "rotate([[1,2,3],[4,5,6],[7,8,9]])"
   ]
  },
  {
   "cell_type": "code",
   "execution_count": 7,
   "metadata": {},
   "outputs": [
    {
     "name": "stdout",
     "output_type": "stream",
     "text": [
      "[1, 2, 3, 6, 9, 8, 7, 4, 5]\n"
     ]
    }
   ],
   "source": [
    "# 54. Spiral Matrix\n",
    "\n",
    "\n",
    "def spiralOrder(matrix):\n",
    "    \n",
    "    res = []\n",
    "    L = 0\n",
    "    R = len(matrix[0])\n",
    "    T = 0\n",
    "    B = len(matrix)\n",
    "    \n",
    "    while L<R and T<B:\n",
    "        for i in range(L,R):\n",
    "            res.append(matrix[T][i])\n",
    "        T += 1\n",
    "        for i in range(T, B):\n",
    "            res.append(matrix[i][R-1])\n",
    "        R -= 1\n",
    "        \n",
    "        if not(L<R and T<B):\n",
    "            break\n",
    "        \n",
    "        for i in range(R-1, L-1, -1):\n",
    "            res.append(matrix[B-1][i])\n",
    "        B -= 1\n",
    "        for i in range(B-1, T - 1, -1 ):\n",
    "            res.append(matrix[i][L])\n",
    "        L += 1\n",
    "    \n",
    "    return res\n",
    "        \n",
    "\n",
    "print(spiralOrder([[1,2,3],[4,5,6],[7,8,9]]))\n",
    "            "
   ]
  },
  {
   "cell_type": "code",
   "execution_count": 72,
   "metadata": {},
   "outputs": [
    {
     "data": {
      "text/plain": [
       "[1, 4, 2, 3, 5, 7, 8, 6, 9]"
      ]
     },
     "execution_count": 72,
     "metadata": {},
     "output_type": "execute_result"
    }
   ],
   "source": [
    "# Given a mxn 2D matrix, print the elements in the matrix in a zigzag pattern.\n",
    "# The zigzag pattern starts at the top left corner of the matrix and moves right to left,\n",
    "# then down to the right, then left to down, and so on.\n",
    "\n",
    "# Example:\n",
    "# Input:\n",
    "# [[1,2,3],\n",
    "#  [4,5,6],\n",
    "# [7,8,9]]\n",
    "\n",
    "# Output:\n",
    "# 1 2 4 7 5 3 6 8 9\n",
    "\n",
    "\n",
    "# Solution 1:\n",
    "# Create a new matrix with the same size as the original matrix.\n",
    "# On the basis of the parity of the sum of the row and column indices, insert the elements into the new matrix either at the end or the beginning of the row.\n",
    "# return the new flattened matrix.\n",
    "\n",
    "def zigzag(matrix):\n",
    "    temp =[[] for i in range(len(matrix) + len(matrix[0]) - 1)]\n",
    "    for i in range(len(matrix)):\n",
    "        for j in range(len(matrix[0])):\n",
    "            if (i + j) % 2 == 0:\n",
    "                temp[i + j].append(matrix[i][j])\n",
    "            else:\n",
    "                temp[i + j].insert(0, matrix[i][j])\n",
    "    # return a flattened list\n",
    "    return [item for sublist in temp for item in sublist]\n",
    "    \n",
    "zigzag([[1,2,3], [4,5,6], [7,8,9]])"
   ]
  },
  {
   "cell_type": "code",
   "execution_count": 2,
   "metadata": {},
   "outputs": [],
   "source": [
    "# 73. Set Matrix Zeroes\n",
    "\n",
    "def setZeroes(matrix):\n",
    "    m = len(matrix)\n",
    "    n = len(matrix[0])\n",
    "    row = [False for i in range(m)]\n",
    "    col = [False for i in range(n)]\n",
    "    for i in range(m):\n",
    "        for j in range(n):\n",
    "            if matrix[i][j] == 0:\n",
    "                row[i] = True\n",
    "                col[j] = True\n",
    "    for i in range(m):\n",
    "        for j in range(n):\n",
    "            if row[i] or col[j]:\n",
    "                matrix[i][j] = 0\n",
    "    return matrix\n"
   ]
  },
  {
   "cell_type": "code",
   "execution_count": 28,
   "metadata": {},
   "outputs": [
    {
     "data": {
      "text/plain": [
       "16"
      ]
     },
     "execution_count": 28,
     "metadata": {},
     "output_type": "execute_result"
    }
   ],
   "source": [
    "# 463. Island Perimeter\n",
    "\n",
    "def islandPerimeter(grid):\n",
    "    perimeter = 0\n",
    "    for i in range(len(grid)): # row\n",
    "        for j in range(len(grid[0])): # col\n",
    "            if grid[i][j] == 1: # land\n",
    "                if i == 0 or grid[i-1][j] == 0: # if above is water or if top row then\n",
    "                    perimeter += 1\n",
    "                if i == len(grid)-1 or grid[i+1][j] == 0: # if below is water or if bottom row then\n",
    "                    perimeter += 1\n",
    "                if j == 0 or grid[i][j-1] == 0: # if left is water or if leftmost col then\n",
    "                    perimeter += 1\n",
    "                if j == len(grid[0])-1 or grid[i][j+1]  == 0: # if right is water or if rightmost col then\n",
    "                    perimeter += 1\n",
    "    return perimeter\n",
    "\n",
    "islandPerimeter([[0,1,0,0],[1,1,1,0],[0,1,0,0],[1,1,0,0]])"
   ]
  },
  {
   "cell_type": "markdown",
   "metadata": {},
   "source": [
    "## Graph Problems\n"
   ]
  },
  {
   "cell_type": "code",
   "execution_count": 27,
   "metadata": {},
   "outputs": [
    {
     "data": {
      "text/plain": [
       "16"
      ]
     },
     "execution_count": 27,
     "metadata": {},
     "output_type": "execute_result"
    }
   ],
   "source": [
    "# 463. Island Perimeter\n",
    "\n",
    "# using DFS\n",
    "def islandPerimeter(grid):\n",
    "    visited = set()\n",
    "    perimeter = 0\n",
    "    for i in range(len(grid)):\n",
    "        for j in range(len(grid[0])):\n",
    "            if grid[i][j] == 1:\n",
    "                perimeter += dfs(grid, i, j, visited)\n",
    "    return perimeter\n",
    "\n",
    "def dfs(grid, i, j, visited):\n",
    "    # if already visited then return 0\n",
    "    if (i, j) in visited:\n",
    "        return 0\n",
    "    # Check out of bounds\n",
    "    if i >= len(grid) or i < 0 or j >= len(grid[0]) or j < 0 or grid[i][j] == 0:\n",
    "        return 1\n",
    "\n",
    "    # if not visited then add to visited and check neighbors\n",
    "    visited.add((i, j))\n",
    "\n",
    "    # Call dfs on neighbors\n",
    "    return dfs(grid, i+1, j, visited) + dfs(grid, i-1, j, visited) + dfs(grid, i, j+1, visited) + dfs(grid, i, j-1, visited)\n",
    "\n",
    "\n",
    "islandPerimeter([[0,1,0,0],[1,1,1,0],[0,1,0,0],[1,1,0,0]])"
   ]
  },
  {
   "cell_type": "code",
   "execution_count": 32,
   "metadata": {},
   "outputs": [
    {
     "data": {
      "text/plain": [
       "6"
      ]
     },
     "execution_count": 32,
     "metadata": {},
     "output_type": "execute_result"
    }
   ],
   "source": [
    "# 695. Max Area of Island\n",
    "\n",
    "def maxAreaOfIsland(grid):\n",
    "    # Initialize max area to 0\n",
    "    max_area = 0\n",
    "\n",
    "    # Iterate through grid and find max area\n",
    "    for i in range(len(grid)):\n",
    "        for j in range(len(grid[0])):\n",
    "            if grid[i][j] == 1:\n",
    "                max_area = max(max_area, dfs(grid, i, j) ) # dfs(grid, i, j) returns area of island\n",
    "    return max_area\n",
    "\n",
    "def dfs(grid, i, j):\n",
    "    if i >= len(grid) or i < 0 or j >= len(grid[0]) or j < 0 or grid[i][j] == 0: # if out of bounds or if water\n",
    "        return 0\n",
    "    \n",
    "    # mark as visited to avoid infinite loop when calling dfs again on same node (i, j)\n",
    "    grid[i][j] = 0 \n",
    "\n",
    "    # Call dfs on neighbors and add 1 to area for each neighbor\n",
    "    return 1 + dfs(grid, i+1, j) + dfs(grid, i-1, j) + dfs(grid, i, j+1) + dfs(grid, i, j-1)\n",
    "\n",
    "maxAreaOfIsland (grid = [[0,0,1,0,0,0,0,1,0,0,0,0,0],\n",
    "[0,0,0,0,0,0,0,1,1,1,0,0,0],\n",
    "[0,1,1,0,1,0,0,0,0,0,0,0,0],\n",
    "[0,1,0,0,1,1,0,0,1,0,1,0,0],\n",
    "[0,1,0,0,1,1,0,0,1,1,1,0,0],\n",
    "[0,0,0,0,0,0,0,0,0,0,1,0,0],\n",
    "[0,0,0,0,0,0,0,1,1,1,0,0,0],\n",
    "[0,0,0,0,0,0,0,1,1,0,0,0,0]])\n"
   ]
  },
  {
   "cell_type": "code",
   "execution_count": 43,
   "metadata": {},
   "outputs": [
    {
     "name": "stdout",
     "output_type": "stream",
     "text": [
      "[[1, 1, 0, 0, 0], [1, 1, 0, 0, 0], [0, 0, 0, 1, 1], [0, 0, 0, 1, 1]]\n",
      "2\n"
     ]
    }
   ],
   "source": [
    "# 200. Number of Islands\n",
    "\n",
    "def numIslands(grid):\n",
    "\n",
    "    def dfs(grid, i, j):\n",
    "        if i >= len(grid) or i < 0 or j >= len(grid[0]) or j < 0 or grid[i][j] == 0: # if out of bounds or if water\n",
    "            return\n",
    "        grid[i][j] = 0\n",
    "        dfs(grid, i+1, j)\n",
    "        dfs(grid, i-1, j)\n",
    "        dfs(grid, i, j+1)\n",
    "        dfs(grid, i, j-1)\n",
    "        \n",
    "    if not grid:\n",
    "        return 0\n",
    "    count = 0\n",
    "    for i in range(len(grid)):\n",
    "        for j in range(len(grid[0])):\n",
    "            if grid[i][j] == 1:\n",
    "                dfs(grid, i, j) \n",
    "                count += 1 # increment count for each island\n",
    "    return count\n",
    "\n",
    "\n",
    "\n",
    "print([[1,1,0,0,0],[1,1,0,0,0],[0,0,0,1,1],[0,0,0,1,1]])\n",
    "print(numIslands([[1,1,0,0,0],[1,1,0,0,0],[0,0,0,1,1],[0,0,0,1,1]]))\n"
   ]
  },
  {
   "cell_type": "code",
   "execution_count": 73,
   "metadata": {},
   "outputs": [],
   "source": [
    "# 130. Surrounded Regions\n",
    "# Given an m x n matrix board containing 'X' and 'O', capture all regions that are 4-directionally surrounded by 'X'.\n",
    "# A region is captured by flipping all 'O's into 'X's in that surrounded region.\n",
    "# Example:\n",
    "# X X X X\n",
    "# X O O X\n",
    "# X X O X\n",
    "# X O X X\n",
    "# After running your function, the board should be:\n",
    "# X X X X\n",
    "# X X X X\n",
    "# X X X X\n",
    "# X O X X"
   ]
  },
  {
   "cell_type": "markdown",
   "metadata": {},
   "source": [
    "- [ ] 489. Robot Room Cleaner\n"
   ]
  },
  {
   "cell_type": "markdown",
   "metadata": {},
   "source": [
    "## Math\n"
   ]
  },
  {
   "cell_type": "code",
   "execution_count": 19,
   "metadata": {},
   "outputs": [
    {
     "data": {
      "text/plain": [
       "True"
      ]
     },
     "execution_count": 19,
     "metadata": {},
     "output_type": "execute_result"
    }
   ],
   "source": [
    "# 1041. Robot Bounded In Circle\n",
    "\n",
    "# On an infinite plane, a robot initially stands at (0, 0) and faces north. The robot can receive one of three instructions:\n",
    "# \"G\": go straight 1 unit;\n",
    "# \"L\": turn 90 degrees to the left;\n",
    "# \"R\": turn 90 degrees to the right.\n",
    "# The robot performs the instructions given in order, and repeats them forever.\n",
    "# Return true if and only if there exists a circle in the plane such that the robot never leaves the circle.\n",
    "def isRobotBounded(instructions):\n",
    "    # north = 0, east = 1, south = 2, west = 3\n",
    "    directions = [[0, 1], [1, 0], [0, -1], [-1, 0]]\n",
    "    # Initial position is in the center\n",
    "    x = y = 0\n",
    "    # facing north\n",
    "    idx = 0\n",
    "    \n",
    "    for i in instructions:\n",
    "        if i == \"L\":\n",
    "            idx = (idx + 3) % 4\n",
    "        elif i == \"R\":\n",
    "            idx = (idx + 1) % 4\n",
    "        else:\n",
    "            x += directions[idx][0]\n",
    "            y += directions[idx][1]\n",
    "    \n",
    "    # after one cycle:\n",
    "    # robot returns into initial position\n",
    "    # or robot doesn't face north\n",
    "    return (x == 0 and y == 0) or idx != 0\n",
    "\n",
    "\n",
    "isRobotBounded(\"LLLL\")"
   ]
  },
  {
   "cell_type": "code",
   "execution_count": 20,
   "metadata": {},
   "outputs": [
    {
     "data": {
      "text/plain": [
       "321"
      ]
     },
     "execution_count": 20,
     "metadata": {},
     "output_type": "execute_result"
    }
   ],
   "source": [
    "# 7. Reverse Integer\n",
    "# Given a 32-bit signed integer, reverse digits of an integer.\n",
    "# Example 1:\n",
    "# Input: 123\n",
    "# Output: 321\n",
    "# Example 2:\n",
    "# Input: -123\n",
    "# Output: -321\n",
    "# Example 3:\n",
    "# Input: 120\n",
    "# Output: 21\n",
    "# Note:\n",
    "# Assume we are dealing with an environment which could only store integers within the 32-bit signed integer range: [−2^31, 2^31 − 1].\n",
    "# For the purpose of this problem, assume that your function returns 0 when the reversed integer overflows.\n",
    "\n",
    "def reverse(x):\n",
    "    if x == 0:\n",
    "        return 0\n",
    "    if x < 0:\n",
    "        return -reverse(-x)\n",
    "    res = 0\n",
    "    while x:\n",
    "        res = res * 10 + x % 10 # add last digit to res \n",
    "        x //= 10 # remove last digit \n",
    "    return res if -2**31 <= res <= 2**31 - 1 else 0 # check overflow condition \n",
    "\n",
    "reverse(123)\n"
   ]
  },
  {
   "cell_type": "markdown",
   "metadata": {},
   "source": [
    "## Dynamic Programming"
   ]
  },
  {
   "cell_type": "code",
   "execution_count": 50,
   "metadata": {},
   "outputs": [
    {
     "data": {
      "text/plain": [
       "2"
      ]
     },
     "execution_count": 50,
     "metadata": {},
     "output_type": "execute_result"
    }
   ],
   "source": [
    "# 509. Fibonacci Number\n",
    "\n",
    "def fib(N):\n",
    "    dp  = [0] * (N + 1)\n",
    "    dp[0] = 0\n",
    "    dp[1] = 1\n",
    "    for i in range(2, N + 1):\n",
    "        dp[i] = dp[i - 1] + dp[i - 2]\n",
    "    return dp[N]\n",
    "\n",
    "fib(3)"
   ]
  },
  {
   "cell_type": "code",
   "execution_count": 52,
   "metadata": {},
   "outputs": [
    {
     "data": {
      "text/plain": [
       "3"
      ]
     },
     "execution_count": 52,
     "metadata": {},
     "output_type": "execute_result"
    }
   ],
   "source": [
    "# 70. Climbing Stairs\n",
    "\n",
    "def climbStairs(n):\n",
    "    ways = [0] * (n + 1)\n",
    "    ways[0] = 1\n",
    "    ways[1] = 1\n",
    "    for i in range(2, n + 1):\n",
    "        ways[i] = ways[i - 1] + ways[i - 2]\n",
    "    return ways[n]\n",
    "\n",
    "climbStairs(3)\n"
   ]
  },
  {
   "cell_type": "code",
   "execution_count": 53,
   "metadata": {},
   "outputs": [
    {
     "data": {
      "text/plain": [
       "6"
      ]
     },
     "execution_count": 53,
     "metadata": {},
     "output_type": "execute_result"
    }
   ],
   "source": [
    "# 746. Min Cost Climbing Stairs\n",
    "\n",
    "def minCostClimbingStairs(cost):\n",
    "    dp = [0] * len(cost)\n",
    "    dp[0] = cost[0]\n",
    "    dp[1] = cost[1]\n",
    "    for i in range(2, len(cost)):\n",
    "        dp[i] = min(dp[i - 1], dp[i - 2]) + cost[i]\n",
    "    return min(dp[-1], dp[-2])\n",
    "\n",
    "minCostClimbingStairs([1, 100, 1, 1, 1, 100, 1, 1, 100, 1])"
   ]
  },
  {
   "cell_type": "code",
   "execution_count": 54,
   "metadata": {},
   "outputs": [
    {
     "data": {
      "text/plain": [
       "1389537"
      ]
     },
     "execution_count": 54,
     "metadata": {},
     "output_type": "execute_result"
    }
   ],
   "source": [
    "# 1137. Nth Tribonacci Number\n",
    "def tribonacci(n):\n",
    "    dp = [0] * (n + 1)\n",
    "    dp[0] = 0\n",
    "    dp[1] = 1\n",
    "    dp[2] = 1\n",
    "    for i in range(3, n + 1):\n",
    "        dp[i] = dp[i - 1] + dp[i - 2] + dp[i - 3]\n",
    "    return dp[n]\n",
    "\n",
    "tribonacci(25)"
   ]
  },
  {
   "cell_type": "code",
   "execution_count": 58,
   "metadata": {},
   "outputs": [
    {
     "name": "stdout",
     "output_type": "stream",
     "text": [
      "[1, 2, 4, 4]\n"
     ]
    },
    {
     "data": {
      "text/plain": [
       "4"
      ]
     },
     "execution_count": 58,
     "metadata": {},
     "output_type": "execute_result"
    }
   ],
   "source": [
    "# 198. House Robber\n",
    "# Blind 75\n",
    "\n",
    "def rob(nums):\n",
    "    if not nums:\n",
    "        return 0\n",
    "    if len(nums) == 1:\n",
    "        return nums[0]\n",
    "    if len(nums) == 2:\n",
    "        return max(nums)\n",
    "    dp = [0] * len(nums)\n",
    "    dp[0] = nums[0]\n",
    "    dp[1] = max(nums[0], nums[1])\n",
    "    for i in range(2, len(nums)):\n",
    "        dp[i] = max(dp[i - 2] + nums[i], dp[i - 1])\n",
    "    print(dp)\n",
    "    return dp[-1]\n",
    "\n",
    "rob([1,2,3,1])\n",
    "\n"
   ]
  },
  {
   "cell_type": "code",
   "execution_count": 60,
   "metadata": {},
   "outputs": [
    {
     "data": {
      "text/plain": [
       "4"
      ]
     },
     "execution_count": 60,
     "metadata": {},
     "output_type": "execute_result"
    }
   ],
   "source": [
    "# Not using an array\n",
    "def rob(nums):\n",
    "    prev = curr = 0\n",
    "    for i in nums:\n",
    "        prev, curr = curr, max(prev + i, curr)\n",
    "    return curr\n",
    "\n",
    "rob([1,2,3,1])\n"
   ]
  },
  {
   "cell_type": "code",
   "execution_count": 38,
   "metadata": {},
   "outputs": [
    {
     "data": {
      "text/plain": [
       "6"
      ]
     },
     "execution_count": 38,
     "metadata": {},
     "output_type": "execute_result"
    }
   ],
   "source": [
    "# 53. Maximum Subarray\n",
    "# Blind 75\n",
    "# Kadane's algorithm\n",
    "\n",
    "# Solution:\n",
    "# If the temporary sum is lesser than 0, then reset the sum to 0. \n",
    "# This is because we are summing the array from left to right and if the sum is negative, it means we are summing a subarray which contributes nothing to the final sum.\n",
    "# If the temporary sum is greater than 0, then add the current element to the sum.\n",
    "\n",
    "\n",
    "def maxSubArray(nums):\n",
    "    # maxSub = nums[0]\n",
    "    # curSum = 0\n",
    "    # for n in nums:\n",
    "    #     if curSum < 0:\n",
    "    #         curSum = 0\n",
    "    #     curSum += n\n",
    "    #     maxSub = max(maxSub, curSum)\n",
    "    # return maxSub\n",
    "    \n",
    "    maxSub = nums[0]\n",
    "    curSub = nums[0]\n",
    "\n",
    "    for num in nums[1:]:\n",
    "        curSub = max(num, curSub+num )\n",
    "        maxSub = max(maxSub, curSub)\n",
    "    return maxSub\n",
    "\n",
    "maxSubArray([-2,1,-3,4,-1,2,1,-5,4])\n",
    "\n",
    "\n",
    "    \n"
   ]
  },
  {
   "cell_type": "code",
   "execution_count": 41,
   "metadata": {},
   "outputs": [
    {
     "data": {
      "text/plain": [
       "3"
      ]
     },
     "execution_count": 41,
     "metadata": {},
     "output_type": "execute_result"
    }
   ],
   "source": [
    "# 62. Unique Paths\n",
    "\n",
    "def uniquePaths(m, n):\n",
    "    dp = [[0] * n for _ in range(m)] # Initialize a 2D array of size m x n and fill it with 0s\n",
    "    for i in range(m):\n",
    "        dp[i][0] = 1\n",
    "    for j in range(n):\n",
    "        dp[0][j] = 1\n",
    "    for i in range(1, m):\n",
    "        for j in range(1, n):\n",
    "            dp[i][j] = dp[i-1][j] + dp[i][j-1]\n",
    "    return dp[-1][-1]\n",
    "\n",
    "uniquePaths(3, 2)"
   ]
  },
  {
   "cell_type": "code",
   "execution_count": 46,
   "metadata": {},
   "outputs": [
    {
     "data": {
      "text/plain": [
       "True"
      ]
     },
     "execution_count": 46,
     "metadata": {},
     "output_type": "execute_result"
    }
   ],
   "source": [
    "# 139. Word Break\n",
    "# Blind 75\n",
    "\n",
    "def wordBreak(s, wordDict):\n",
    "    dp = [False] * (len(s) + 1)\n",
    "    dp[0] = True\n",
    "    for i in range(1, len(s) + 1):\n",
    "        for j in range(i):\n",
    "            if dp[j] and s[j:i] in wordDict:\n",
    "                dp[i] = True\n",
    "                break\n",
    "    return dp[-1]\n",
    "\n",
    "\n",
    "\n",
    "def wordBreak( s: str, wordDict) -> bool:\n",
    "    dp = [False for _ in range(len(s)+1)]\n",
    "    dp[-1] = True\n",
    "    for i in range(len(s)-1, -1, -1):\n",
    "        for w in wordDict:\n",
    "            if (i+len(w)) <= len(s) and s[i:i+len(w)] == w:\n",
    "                dp[i] = dp[i+len(w)]\n",
    "            if dp[i]:\n",
    "                break\n",
    "    \n",
    "    return dp[0]\n",
    "\n",
    "wordBreak(\"leetcode\", [\"leet\", \"code\"])"
   ]
  },
  {
   "cell_type": "code",
   "execution_count": null,
   "metadata": {},
   "outputs": [],
   "source": [
    "# 152. Maximum Product Subarray\n",
    "\n",
    "\n",
    "def maxProduct(nums):\n",
    "    # if not nums:\n",
    "    #     return 0\n",
    "    # if len(nums) == 1:\n",
    "    #     return nums[0]\n",
    "    # dp = [0] * len(nums)\n",
    "    # dp[0] = nums[0]\n",
    "    # for i in range(1, len(nums)):\n",
    "    #     if nums[i] < 0:\n",
    "    #         dp[i] = dp[i-1] * nums[i]\n",
    "    #     else:\n",
    "    #         dp[i] = max(nums[i], dp[i-1] * nums[i])\n",
    "    # return max(dp)\n",
    "        \n",
    "\n",
    "        \n"
   ]
  },
  {
   "cell_type": "code",
   "execution_count": 62,
   "metadata": {},
   "outputs": [
    {
     "data": {
      "text/plain": [
       "[]"
      ]
     },
     "execution_count": 62,
     "metadata": {},
     "output_type": "execute_result"
    }
   ],
   "source": [
    "l = ['[']\n",
    "\n"
   ]
  },
  {
   "cell_type": "code",
   "execution_count": 59,
   "metadata": {},
   "outputs": [
    {
     "data": {
      "text/plain": [
       "'amanaplana_canalpanama'"
      ]
     },
     "execution_count": 59,
     "metadata": {},
     "output_type": "execute_result"
    }
   ],
   "source": [
    "import re\n",
    "input = \"A man, a plan, a _canal: Panama\"\n",
    "s = re.sub(r'\\W+', '', input)\n",
    "s.lower()"
   ]
  },
  {
   "cell_type": "markdown",
   "metadata": {},
   "source": [
    "## Sliding Window"
   ]
  },
  {
   "cell_type": "code",
   "execution_count": 61,
   "metadata": {},
   "outputs": [
    {
     "data": {
      "text/plain": [
       "5"
      ]
     },
     "execution_count": 61,
     "metadata": {},
     "output_type": "execute_result"
    }
   ],
   "source": [
    "# 121. Best Time to Buy and Sell Stock\n",
    "# Blind 75\n",
    "\n",
    "def maxProfit(prices):\n",
    "    if not prices:\n",
    "        return 0\n",
    "    if len(prices) == 1:\n",
    "        return 0\n",
    "    l,r = 0,1\n",
    "    maxP = 0\n",
    "    while(r<len(prices)):\n",
    "        if prices[l] < prices[r]:\n",
    "                maxP = max(prices[r] - prices[l], maxP)\n",
    "        else:\n",
    "            l = r \n",
    "        r = r+1\n",
    "    return maxP\n",
    "\n",
    "maxProfit([7,1,5,3,6,4])"
   ]
  },
  {
   "cell_type": "code",
   "execution_count": 2,
   "metadata": {},
   "outputs": [
    {
     "data": {
      "text/plain": [
       "3"
      ]
     },
     "execution_count": 2,
     "metadata": {},
     "output_type": "execute_result"
    }
   ],
   "source": [
    "# 3. Length of Longest Substring\n",
    "\n",
    "def lengthOfLongestSubstring(s):\n",
    "    if len(s) == 0:\n",
    "        return 0\n",
    "    \n",
    "    max_length = 1\n",
    "    \n",
    "    charSet = set()\n",
    "    i = 0\n",
    "    j = 1\n",
    "    \n",
    "    while(j<=len(s) and i < len(s)):\n",
    "        if len(s[i:j]) > len(set(s[i:j])):\n",
    "            # NOT\n",
    "            i += 1\n",
    "        else:\n",
    "            if len(s[i:j])> max_length:\n",
    "                max_length = len(s[i:j])\n",
    "            j += 1\n",
    "    return max_length\n",
    "\n",
    "lengthOfLongestSubstring(\"abcabcbb\")"
   ]
  },
  {
   "cell_type": "code",
   "execution_count": 29,
   "metadata": {},
   "outputs": [
    {
     "data": {
      "text/plain": [
       "6"
      ]
     },
     "execution_count": 29,
     "metadata": {},
     "output_type": "execute_result"
    }
   ],
   "source": [
    "# 647. Palindromic Substrings\n",
    "# Blind 75\n",
    "\n",
    "# Solution: \n",
    "# Move two pointers in a for loop from L to R.\n",
    "# - i and j are the two pointers.\n",
    "# - The two pointers move outward from the middle, and the substring expands to the left and right.\n",
    "# - Case 1: Palandrome is of odd length. The middle character is the center of the palindrome. i = j.\n",
    "# - Case 2: Palandrome is of even length. The middle two characters are the center of the palindrome. i = j - 1.\n",
    "\n",
    "def countSubstrings(s):\n",
    "    count = 0\n",
    "    # for each possible center of a palindrome\n",
    "    for l in range(len(s)):\n",
    "        # Odd case\n",
    "        i = l\n",
    "        j = l\n",
    "        while j < len(s) and s[i] == s[j] and i >= 0:\n",
    "            count += 1\n",
    "            j += 1\n",
    "            i -= 1\n",
    "        # Even case\n",
    "        i = l\n",
    "        j = l + 1\n",
    "        while j < len(s) and s[i] == s[j] and i >= 0:\n",
    "            count += 1\n",
    "            j += 1\n",
    "            i -= 1\n",
    "    return count\n",
    "\n",
    "\n",
    "countSubstrings(\"aaa\")"
   ]
  },
  {
   "cell_type": "code",
   "execution_count": 35,
   "metadata": {},
   "outputs": [
    {
     "name": "stdout",
     "output_type": "stream",
     "text": [
      "Left [1, 11, 22, 66]\n",
      "Right [24, 12, 4, 1]\n"
     ]
    },
    {
     "data": {
      "text/plain": [
       "[24, 132, 88, 66]"
      ]
     },
     "execution_count": 35,
     "metadata": {},
     "output_type": "execute_result"
    }
   ],
   "source": [
    "# 238. Product of Array Except Self\n",
    "# Given an integer array nums, return an array answer such that answer[i] is equal to the product of all the elements of nums except nums[i].\n",
    "# The product of any prefix or suffix of nums is guaranteed to fit in a 32-bit integer.\n",
    "# You must write an algorithm that runs in O(n) time and without using the division operation.\n",
    "# ----------------------------------------------------------------------------------------------------------------------\n",
    "# Blind 75\n",
    "\n",
    "# Solution:\n",
    "# - The product of all the elements to the left of the current element is stored in the left array.\n",
    "# - The product of all the elements to the right of the current element is stored in the right array.\n",
    "\n",
    "def ProductExpectSelf(nums):\n",
    "    \n",
    "    # The length of the input array \n",
    "    length = len(nums)\n",
    "    \n",
    "    # The left and right arrays as described in the algorithm\n",
    "    L, R, answer = [0]*length, [0]*length, [0]*length\n",
    "    \n",
    "    # L[i] contains the product of all the elements to the left\n",
    "    # Note: for the element at index '0', there are no elements to the left,\n",
    "    # so the L[0] would be 1\n",
    "    L[0] = 1\n",
    "    for i in range(1, length):\n",
    "        \n",
    "        # L[i - 1] already contains the product of elements to the left of 'i - 1'\n",
    "        # Simply multiplying it with nums[i - 1] would give the product of all \n",
    "        # elements to the left of index 'i'\n",
    "        L[i] = nums[i - 1] * L[i - 1]\n",
    "    \n",
    "    print(\"Left\", L)\n",
    "    \n",
    "    # R[i] contains the product of all the elements to the right\n",
    "    # Note: for the element at index 'length - 1', there are no elements to the right,\n",
    "    # so the R[length - 1] would be 1\n",
    "    R[length - 1] = 1\n",
    "    for i in reversed(range(length - 1)):\n",
    "        \n",
    "        # R[i + 1] already contains the product of elements to the right of 'i + 1'\n",
    "        # Simply multiplying it with nums[i + 1] would give the product of all \n",
    "        # elements to the right of index 'i'\n",
    "        R[i] = nums[i + 1] * R[i + 1]\n",
    "    \n",
    "    print(\"Right\", R)\n",
    "    # Constructing the answer array\n",
    "    for i in range(length):\n",
    "        # For the first element, R[i] would be product except self\n",
    "        # For the last element of the array, product except self would be L[i]\n",
    "        # Else, multiple product of all elements to the left and to the right\n",
    "        answer[i] = L[i] * R[i]\n",
    "    \n",
    "    return answer\n",
    "\n",
    "\n",
    "ProductExpectSelf([11,2,3,4])\n",
    "\n",
    "\n",
    "\n",
    "\n"
   ]
  },
  {
   "cell_type": "code",
   "execution_count": 22,
   "metadata": {},
   "outputs": [
    {
     "data": {
      "text/plain": [
       "5"
      ]
     },
     "execution_count": 22,
     "metadata": {},
     "output_type": "execute_result"
    }
   ],
   "source": [
    "# 424. Longest Repeating Character Replacement\n",
    "def characterReplacement(s, k):\n",
    "    dic = {}\n",
    "    res = 0\n",
    "    \n",
    "    i = 0\n",
    "    for j in range(1, len(s)):\n",
    "    \n",
    "        temp = dict(Counter(s[i:j]))\n",
    "        # print(temp)\n",
    "        max_freq = max(list(temp.values()))\n",
    "        # print(res)\n",
    "        if max_freq - (j-i) <= k:\n",
    "            res = j-i  + 1\n",
    "        else:\n",
    "            i += 1\n",
    "    return res\n",
    "\n",
    "\n",
    "characterReplacement(\"ABABA\", 1)"
   ]
  },
  {
   "cell_type": "code",
   "execution_count": 23,
   "metadata": {},
   "outputs": [
    {
     "data": {
      "text/plain": [
       "['a', 'a', 'b']"
      ]
     },
     "execution_count": 23,
     "metadata": {},
     "output_type": "execute_result"
    }
   ],
   "source": [
    "sorted('aba')"
   ]
  },
  {
   "cell_type": "markdown",
   "metadata": {},
   "source": [
    "## Hash Table/ Dictionary"
   ]
  },
  {
   "cell_type": "code",
   "execution_count": 56,
   "metadata": {},
   "outputs": [
    {
     "data": {
      "text/plain": [
       "4"
      ]
     },
     "execution_count": 56,
     "metadata": {},
     "output_type": "execute_result"
    }
   ],
   "source": [
    "# 2244. Minimum Rounds to Complete All Tasks\n",
    "from collections import Counter\n",
    "def minRounds(tasks):\n",
    "    dic  = dict(Counter(tasks))\n",
    "    res = 0\n",
    "    for i in dic.values():\n",
    "        if i == 1:\n",
    "            return -1\n",
    "        elif i%3 in [1,2]:\n",
    "            res += (i // 3)+1\n",
    "        else:\n",
    "            res += (i // 3)\n",
    "    return res\n",
    "\n",
    "minRounds([2,2,3,3,2,4,4,4,4,4])"
   ]
  },
  {
   "cell_type": "markdown",
   "metadata": {},
   "source": [
    "## Greedy"
   ]
  },
  {
   "cell_type": "code",
   "execution_count": 14,
   "metadata": {},
   "outputs": [
    {
     "data": {
      "text/plain": [
       "[[10, 20], [10, 21], [15, 20]]"
      ]
     },
     "execution_count": 14,
     "metadata": {},
     "output_type": "execute_result"
    }
   ],
   "source": [
    "# 252. Meeting Rooms\n",
    "\n",
    "\n",
    "intervals = [[10,21],[10,20],[15,20]]\n",
    "\n",
    "intervals.sort(key = lambda x:[x[0], x[1]])\n",
    "intervals"
   ]
  },
  {
   "cell_type": "code",
   "execution_count": 16,
   "metadata": {},
   "outputs": [
    {
     "data": {
      "text/plain": [
       "2"
      ]
     },
     "execution_count": 16,
     "metadata": {},
     "output_type": "execute_result"
    }
   ],
   "source": [
    "# 253. Meeting Rooms II\n",
    "# Blind 75\n",
    "\n",
    "# Solution:\n",
    "# Use two arrays to store the start and end times of all the meetings.\n",
    "# Sort the start and end times.\n",
    "# Use two pointers to traverse the sorted arrays.\n",
    "# If the end time of the current meeting is greater than the start time of the next meeting,\n",
    "# then we know that the current meeting cannot be scheduled.\n",
    "# Else, we can schedule the current meeting.\n",
    "# The number of meetings that cannot be scheduled is the number of meetings that cannot be scheduled plus the number of meetings that can be scheduled.\n",
    "# ----------------------------------------------------------------------------------------------------------------------\n",
    "# Blind 75\n",
    "\n",
    "def minMeetingRooms(intervals):\n",
    "    if not intervals:\n",
    "        return 0\n",
    "    start = [i[0] for i in intervals]\n",
    "    end = [i[1] for i in intervals]\n",
    "    start.sort()\n",
    "    end.sort()\n",
    "    max_rooms = 0\n",
    "    rooms = 0\n",
    "    i = 0\n",
    "    j = 0\n",
    "    while i < len(start) and j < len(end):\n",
    "        if start[i] < end[j]:\n",
    "            rooms += 1\n",
    "            i += 1\n",
    "        else:\n",
    "            rooms -= 1\n",
    "            j += 1\n",
    "        max_rooms = max(max_rooms, rooms)\n",
    "    return max_rooms\n",
    "    \n",
    "\n",
    "minMeetingRooms([[10,20],[15,25],[20,30]])"
   ]
  },
  {
   "cell_type": "code",
   "execution_count": 21,
   "metadata": {},
   "outputs": [
    {
     "data": {
      "text/plain": [
       "2"
      ]
     },
     "execution_count": 21,
     "metadata": {},
     "output_type": "execute_result"
    }
   ],
   "source": [
    "# 435. Non-overlapping Intervals\n",
    "# - If two intervals overlap, keep the interval with the earlier end time. \n",
    "\n",
    "def eraseOverlapIntervals(intervals):\n",
    "    if not intervals:\n",
    "        return 0\n",
    "    intervals.sort(key = lambda x:x[0])\n",
    "\n",
    "    res = 0\n",
    "    prev_end = intervals[0][1]\n",
    "    for s, e in intervals[1:]:\n",
    "        if s >= prev_end:\n",
    "            prev_end = e\n",
    "        else:\n",
    "            res += 1\n",
    "            prev_end = min(prev_end, e)\n",
    "    return res\n",
    "\n",
    "eraseOverlapIntervals([[1,2],[1,2],[1,2]])"
   ]
  },
  {
   "cell_type": "code",
   "execution_count": 34,
   "metadata": {},
   "outputs": [
    {
     "data": {
      "text/plain": [
       "[[1, 5], [5, 7]]"
      ]
     },
     "execution_count": 34,
     "metadata": {},
     "output_type": "execute_result"
    }
   ],
   "source": [
    "# 57. Insert Interval\n",
    "# - Intervals are sorted by start time.\n",
    "# - Merge intervals if they overlap.\n",
    "\n",
    "\n",
    "\n",
    "def insert(intervals, newInterval):\n",
    "    if not intervals:\n",
    "        return [newInterval]\n",
    "    res = []\n",
    "    \n",
    "    # if the new interval starts before the first interval\n",
    "    if newInterval[0] <= intervals[0][0]:\n",
    "        res.append(newInterval)\n",
    "        res += intervals\n",
    "        return res\n",
    "    \n",
    "    \n",
    "    # if the new interval starts after the last interval\n",
    "    if newInterval[0] >= intervals[-1][1]:\n",
    "        res += intervals\n",
    "        res.append(newInterval)\n",
    "        return res\n",
    "            \n",
    "    # if the new interval starts in the middle of the intervals, we need to find the right place to insert\n",
    "    for i in range(len(intervals)):\n",
    "        if newInterval[0] >= intervals[i][0] and newInterval[0] <= intervals[i][1]:\n",
    "            res = intervals[:i]\n",
    "            res.append([min(newInterval[0], intervals[i][0]), max(newInterval[1], intervals[i][1])])\n",
    "            res += intervals[i+1:]\n",
    "            \n",
    "    # Merge all the overlapping intervals \n",
    "    i = 0\n",
    "    while i < len(res)-1:\n",
    "        new = [res[i][0], res[i][1]]\n",
    "        if new[1] > res[i+1][0]:\n",
    "            new[1] = max(new[1], res[i+1][1])\n",
    "            res.pop(i+1)\n",
    "            res[i] = new\n",
    "        elif new[1] == res[i+1][0]: # if the end time of the new interval is the same as the start time of the next interval, we need to merge them\n",
    "            res[i] = [res[i][0], res[i+1][1]]\n",
    "            res.pop(i+1)\n",
    "\n",
    "        else: \n",
    "            i += 1\n",
    "    return res\n",
    "\n",
    "    \n",
    "# insert(intervals = [[1,],[3,5],[6,7],[8,10],[12,16]], newInterval = [4,8])\n",
    "\n",
    "insert([[1,5]], [5,7])\n",
    "\n",
    "    "
   ]
  },
  {
   "cell_type": "code",
   "execution_count": 28,
   "metadata": {},
   "outputs": [
    {
     "data": {
      "text/plain": [
       "2"
      ]
     },
     "execution_count": 28,
     "metadata": {},
     "output_type": "execute_result"
    }
   ],
   "source": [
    "# 45. Jump Game II\n",
    "\n",
    "# Given an array of non-negative integers nums, you are initially positioned at the first index of the array.\n",
    "# Each element in the array represents your maximum jump length at that position.\n",
    "# Your goal is to reach the last index in the minimum number of jumps.\n",
    "# Example:\n",
    "# Input: nums = [2,3,1,1,4]\n",
    "# Output: 2\n",
    "\n",
    "\n",
    "def jump(nums):\n",
    "    if not nums:\n",
    "        return 0\n",
    "    if len(nums) == 1:\n",
    "        return 0\n",
    "    jumps = 0\n",
    "    i = 0\n",
    "    while(i < len(nums)):\n",
    "        if i + nums[i] >= len(nums)-1: # if we can reach the end\n",
    "            return jumps+1\n",
    "        else:\n",
    "            max_jump = 0\n",
    "            for j in range(i+1, i+nums[i]+1): # find the max jump we can make\n",
    "                if j + nums[j] > max_jump: # if we can jump to a new position\n",
    "                    max_jump = j + nums[j] # update the max jump\n",
    "            i = max_jump # update the current position\n",
    "            jumps += 1 # update the number of jumps\n",
    "    return jumps    \n",
    "\n",
    "jump([2,3,1,1,4])"
   ]
  },
  {
   "cell_type": "markdown",
   "metadata": {},
   "source": [
    "## Misc. "
   ]
  },
  {
   "cell_type": "code",
   "execution_count": 64,
   "metadata": {},
   "outputs": [
    {
     "name": "stdout",
     "output_type": "stream",
     "text": [
      "[1]\n",
      "[1, 2]\n",
      "[1, 2, 3]\n",
      "[1, 2, 3, 4]\n",
      "[1, 2, 3, 4, 5]\n",
      "[2]\n",
      "[2, 3]\n",
      "[2, 3, 4]\n",
      "[2, 3, 4, 5]\n",
      "[3]\n",
      "[3, 4]\n",
      "[3, 4, 5]\n",
      "[4]\n",
      "[4, 5]\n",
      "[5]\n"
     ]
    }
   ],
   "source": [
    "# Print all the subarrays of a given array\n",
    "\n",
    "def printSubArrays(arr):\n",
    "    for i in range(len(arr)):\n",
    "        for j in range(i+1, len(arr)+1):\n",
    "            print(arr[i:j])\n",
    "\n",
    "printSubArrays([1,2,3,4,5])"
   ]
  },
  {
   "cell_type": "markdown",
   "metadata": {},
   "source": [
    "## Logs \n",
    "\n"
   ]
  },
  {
   "cell_type": "code",
   "execution_count": 39,
   "metadata": {},
   "outputs": [
    {
     "data": {
      "text/plain": [
       "['g1 act car', 'a8 act zoo', 'ab1 off key dog', 'a1 9 2 3 1', 'zo4 4 7']"
      ]
     },
     "execution_count": 39,
     "metadata": {},
     "output_type": "execute_result"
    }
   ],
   "source": [
    "# 937. Reorder Data in Log Files\n",
    "# You have an array of logs.  Each log is a space delimited string of words.\n",
    "def reorderLogFiles( logs) -> str:\n",
    "    digits = []\n",
    "    letters = []\n",
    "    for log in logs:\n",
    "        temp = log.split(\" \")\n",
    "        if temp[1].isdigit():\n",
    "            digits.append(log)\n",
    "        else:\n",
    "            letters.append([temp[0], \" \".join(temp[1:])])\n",
    "    \n",
    "    letters.sort(key = lambda x: [x[1], x[0]] )\n",
    "    \n",
    "    return [\" \".join(letter) for letter in letters] + digits\n",
    "\n",
    "reorderLogFiles([\"a1 9 2 3 1\",\"g1 act car\",\"zo4 4 7\",\"ab1 off key dog\",\"a8 act zoo\"])"
   ]
  },
  {
   "cell_type": "markdown",
   "metadata": {},
   "source": [
    "## Bit Manipulation\n"
   ]
  },
  {
   "cell_type": "code",
   "execution_count": 46,
   "metadata": {},
   "outputs": [
    {
     "name": "stdout",
     "output_type": "stream",
     "text": [
      "a^b 17\n",
      "a&b 2\n",
      "a&b<<1 4\n",
      "a^b 21\n",
      "a&b 0\n",
      "a&b<<1 0\n"
     ]
    },
    {
     "data": {
      "text/plain": [
       "21"
      ]
     },
     "execution_count": 46,
     "metadata": {},
     "output_type": "execute_result"
    }
   ],
   "source": [
    "# 371. Sum of Two Integers\n",
    "# Blind 75\n",
    "# Solution:\n",
    "# - Bit Manipulation\n",
    "# - To add the numbers, we can use XOR operation to get the sum of two numbers.\n",
    "# - The idea is to use the carry bit to store the carry bit of the sum. Done by AND operation and LEFT SHIFT.\n",
    "# - Call the function recursively to add the above two numbers until base case a == 0 or b == 0.\n",
    "\n",
    "\n",
    "\n",
    "def getSum(a, b):\n",
    "    \"\"\"\n",
    "    :type a: int\n",
    "    :type b: int\n",
    "    :rtype: int\n",
    "    \"\"\"\n",
    "    if b == 0:\n",
    "        return a\n",
    "    elif a == 0:\n",
    "        return b\n",
    "    else:\n",
    "        return getSum(a^b, (a&b)<<1) \n",
    "\n",
    "getSum(19,2)"
   ]
  },
  {
   "cell_type": "code",
   "execution_count": 52,
   "metadata": {},
   "outputs": [],
   "source": [
    "# List as a Stack\n",
    "# A stack is a data structure that provides LIFO (Last In First Out) ordering.\n",
    "# A stack is implemented using a list.\n",
    "# The following operations are supported:\n",
    "# push(x) -- Push element x onto stack.\n",
    "# pop() -- Removes the element on top of the stack.\n",
    "# top() -- Get the top element.\n",
    "# empty() -- Return whether the stack is empty.\n",
    "# You must use only standard operations of a list plus push to implement the stack.\n",
    "# You may not use any built-in functions of the standard library.\n",
    "\n",
    "\n",
    "class MinStack:\n",
    "\n",
    "    def __init__(self):\n",
    "        self.stack = []\n",
    "        self.min = []\n",
    "        \n",
    "\n",
    "    def push(self, val: int) -> None:    \n",
    "        if self.stack == []:\n",
    "            self.min.append(val)\n",
    "            self.stack.append(val)\n",
    "        else:\n",
    "            self.min.append(min(self.min[-1], val))\n",
    "            self.stack.append(val)\n",
    "            \n",
    "\n",
    "    def pop(self) -> None:\n",
    "        self.stack.pop()\n",
    "        self.min.pop()\n",
    "\n",
    "    def top(self) -> int:\n",
    "        return self.stack[-1]\n",
    "        \n",
    "\n",
    "    def getMin(self) -> int:\n",
    "        return self.min[-1]"
   ]
  }
 ],
 "metadata": {
  "kernelspec": {
   "display_name": "Python 3.9.10 ('base')",
   "language": "python",
   "name": "python3"
  },
  "language_info": {
   "codemirror_mode": {
    "name": "ipython",
    "version": 3
   },
   "file_extension": ".py",
   "mimetype": "text/x-python",
   "name": "python",
   "nbconvert_exporter": "python",
   "pygments_lexer": "ipython3",
   "version": "3.9.10"
  },
  "orig_nbformat": 4,
  "vscode": {
   "interpreter": {
    "hash": "2a62eb7397e95947974711ad7e3aa515539411275f2fd01cf7995f5d30a231c5"
   }
  }
 },
 "nbformat": 4,
 "nbformat_minor": 2
}
