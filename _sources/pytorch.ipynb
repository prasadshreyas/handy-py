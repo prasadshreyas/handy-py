{
 "cells": [
  {
   "cell_type": "code",
   "execution_count": 2,
   "metadata": {},
   "outputs": [],
   "source": [
    "import torch"
   ]
  },
  {
   "cell_type": "markdown",
   "metadata": {},
   "source": [
    "To initialize a tensor, we can use the `torch.Tensor()` function. This function takes in a list of numbers and returns a tensor object."
   ]
  },
  {
   "cell_type": "code",
   "execution_count": 33,
   "metadata": {},
   "outputs": [
    {
     "name": "stdout",
     "output_type": "stream",
     "text": [
      "tensor([1., 2., 3.])\n",
      "torch.Size([3])\n"
     ]
    }
   ],
   "source": [
    "t = torch.Tensor([ 1, 2, 3])\n",
    "\n",
    "print(t)\n",
    "print(t.shape)"
   ]
  },
  {
   "cell_type": "markdown",
   "metadata": {},
   "source": [
    "Adding a dimension to a tensor. This is useful when you want to add a batch dimension to a single image for example, since a model usually expects batches.\n",
    "\n",
    "`[:, None]` is a Python syntax for adding a dimension. `None` is a special Python object that indicates that this dimension should be added."
   ]
  },
  {
   "cell_type": "code",
   "execution_count": 34,
   "metadata": {},
   "outputs": [
    {
     "name": "stdout",
     "output_type": "stream",
     "text": [
      "tensor([[1.],\n",
      "        [2.],\n",
      "        [3.]])\n",
      "torch.Size([3, 1])\n"
     ]
    }
   ],
   "source": [
    "t = t[:, None]\n",
    "\n",
    "print(t)\n",
    "print(t.shape)"
   ]
  },
  {
   "cell_type": "markdown",
   "metadata": {},
   "source": [
    "Transpose of a tensor: `t.t()`"
   ]
  },
  {
   "cell_type": "code",
   "execution_count": null,
   "metadata": {},
   "outputs": [
    {
     "name": "stdout",
     "output_type": "stream",
     "text": [
      "tensor([[1., 2., 3.]])\n",
      "torch.Size([1, 3])\n"
     ]
    }
   ],
   "source": [
    "t = t.t()\n",
    "\n",
    "print(t)\n",
    "print(t.shape)"
   ]
  },
  {
   "cell_type": "markdown",
   "metadata": {},
   "source": [
    "The `@` operator performs matrix multiplication between two tensors."
   ]
  },
  {
   "cell_type": "code",
   "execution_count": 43,
   "metadata": {},
   "outputs": [
    {
     "data": {
      "text/plain": [
       "tensor(32.)"
      ]
     },
     "execution_count": 43,
     "metadata": {},
     "output_type": "execute_result"
    }
   ],
   "source": [
    "t1 = torch.Tensor([1, 2, 3])\n",
    "t2 = torch.Tensor([4, 5, 6])\n",
    "\n",
    "t1 @ t2 # dot product or inner product - implicit"
   ]
  },
  {
   "cell_type": "code",
   "execution_count": 47,
   "metadata": {},
   "outputs": [
    {
     "data": {
      "text/plain": [
       "tensor(32.)"
      ]
     },
     "execution_count": 47,
     "metadata": {},
     "output_type": "execute_result"
    }
   ],
   "source": [
    "# Explicitly, manually transposing t1 and multiplying by t2\n",
    "t1.t()  @ t2"
   ]
  },
  {
   "cell_type": "code",
   "execution_count": 45,
   "metadata": {},
   "outputs": [
    {
     "data": {
      "text/plain": [
       "tensor(32.)"
      ]
     },
     "execution_count": 45,
     "metadata": {},
     "output_type": "execute_result"
    }
   ],
   "source": [
    "# Explicitly, using torch.dot\n",
    "torch.dot(t1, t2)"
   ]
  },
  {
   "cell_type": "code",
   "execution_count": 46,
   "metadata": {},
   "outputs": [
    {
     "data": {
      "text/plain": [
       "tensor(32.)"
      ]
     },
     "execution_count": 46,
     "metadata": {},
     "output_type": "execute_result"
    }
   ],
   "source": [
    "# Explicitly, using torch.matmul\n",
    "torch.matmul(t1, t2)"
   ]
  },
  {
   "cell_type": "markdown",
   "metadata": {},
   "source": [
    "---"
   ]
  },
  {
   "cell_type": "code",
   "execution_count": 2,
   "metadata": {},
   "outputs": [
    {
     "data": {
      "text/plain": [
       "tensor([0.0900, 0.2447, 0.6652])"
      ]
     },
     "execution_count": 2,
     "metadata": {},
     "output_type": "execute_result"
    }
   ],
   "source": [
    "import torch\n",
    "# Softmax\n",
    "def softmax(x):\n",
    "    return torch.exp(x) / torch.exp(x).sum()\n",
    "\n",
    "x = torch.Tensor([1.0, 2.0, 3.0])\n",
    "softmax(x)\n"
   ]
  },
  {
   "cell_type": "code",
   "execution_count": 5,
   "metadata": {},
   "outputs": [
    {
     "data": {
      "text/plain": [
       "tensor([0.0900, 0.2447, 0.6652])"
      ]
     },
     "execution_count": 5,
     "metadata": {},
     "output_type": "execute_result"
    }
   ],
   "source": [
    "softmax(x+2)"
   ]
  },
  {
   "cell_type": "code",
   "execution_count": 16,
   "metadata": {},
   "outputs": [
    {
     "ename": "TypeError",
     "evalue": "polynomial() got an unexpected keyword argument 'requires_grad'",
     "output_type": "error",
     "traceback": [
      "\u001b[0;31m---------------------------------------------------------------------------\u001b[0m",
      "\u001b[0;31mTypeError\u001b[0m                                 Traceback (most recent call last)",
      "\u001b[1;32m/Users/shreyasprasad/GitHub/handy-py/pytorch.ipynb Cell 16\u001b[0m in \u001b[0;36m<cell line: 23>\u001b[0;34m()\u001b[0m\n\u001b[1;32m     <a href='vscode-notebook-cell:/Users/shreyasprasad/GitHub/handy-py/pytorch.ipynb#X21sZmlsZQ%3D%3D?line=20'>21</a>\u001b[0m  \u001b[39m# TODO: fix me by adding requires_grad\u001b[39;00m\n\u001b[1;32m     <a href='vscode-notebook-cell:/Users/shreyasprasad/GitHub/handy-py/pytorch.ipynb#X21sZmlsZQ%3D%3D?line=21'>22</a>\u001b[0m x \u001b[39m=\u001b[39m torch\u001b[39m.\u001b[39mlinspace(\u001b[39m-\u001b[39m\u001b[39m2.0\u001b[39m, \u001b[39m3.0\u001b[39m, \u001b[39m100\u001b[39m, requires_grad\u001b[39m=\u001b[39m\u001b[39mTrue\u001b[39;00m)\n\u001b[0;32m---> <a href='vscode-notebook-cell:/Users/shreyasprasad/GitHub/handy-py/pytorch.ipynb#X21sZmlsZQ%3D%3D?line=22'>23</a>\u001b[0m y \u001b[39m=\u001b[39m polynomial(x, requires_grad\u001b[39m=\u001b[39;49m\u001b[39mTrue\u001b[39;49;00m)\n",
      "\u001b[0;31mTypeError\u001b[0m: polynomial() got an unexpected keyword argument 'requires_grad'"
     ]
    }
   ],
   "source": [
    "def polynomial(x):\n",
    "    return x**4 - 2 * x**3 + 3 * x**2 - 4 * x + 5\n",
    "\n",
    "# MODIFY THE CODE BELOW TO DEFINE p1, p2, p3, p4 and d2y_x, d3y_x, and d4y_x\n",
    "\n",
    "def p1(x):\n",
    "    # TODO: fix me to be the derivative of polynomial(x)\n",
    "    return 4 * x**3 - 6 * x**2 + 6 * x - 4\n",
    "\n",
    "def p2(x):\n",
    "    # TODO: fix me to be the derivative of p1(x)\n",
    "    return 12 * x**2 - 12 * x + 6\n",
    "\n",
    "def p3(x):\n",
    "    # TODO: fix me to be the derivative of p2(x)\n",
    "    return 24 * x - 12\n",
    "def p4(x):\n",
    "    # TODO: fix me to be the derivative of p3(x)\n",
    "    return 24\n",
    "\n",
    " # TODO: fix me by adding requires_grad\n",
    "x = torch.linspace(-2.0, 3.0, 100, requires_grad=True)\n",
    "y = polynomial(x, requires_grad=True)"
   ]
  },
  {
   "cell_type": "code",
   "execution_count": 17,
   "metadata": {},
   "outputs": [
    {
     "ename": "RuntimeError",
     "evalue": "One of the differentiated Tensors appears to not have been used in the graph. Set allow_unused=True if this is the desired behavior.",
     "output_type": "error",
     "traceback": [
      "\u001b[0;31m---------------------------------------------------------------------------\u001b[0m",
      "\u001b[0;31mRuntimeError\u001b[0m                              Traceback (most recent call last)",
      "\u001b[1;32m/Users/shreyasprasad/GitHub/handy-py/pytorch.ipynb Cell 17\u001b[0m in \u001b[0;36m<cell line: 2>\u001b[0;34m()\u001b[0m\n\u001b[1;32m      <a href='vscode-notebook-cell:/Users/shreyasprasad/GitHub/handy-py/pytorch.ipynb#X22sZmlsZQ%3D%3D?line=0'>1</a>\u001b[0m \u001b[39m# torch.autograd.grad(y.sum(), [x])  # TODO: fix me to be the derivative of y.sum() w.r.t. to x\u001b[39;00m\n\u001b[0;32m----> <a href='vscode-notebook-cell:/Users/shreyasprasad/GitHub/handy-py/pytorch.ipynb#X22sZmlsZQ%3D%3D?line=1'>2</a>\u001b[0m [dy_dx] \u001b[39m=\u001b[39m [torch\u001b[39m.\u001b[39;49mautograd\u001b[39m.\u001b[39;49mgrad(y\u001b[39m.\u001b[39;49msum(), [x])] \n\u001b[1;32m      <a href='vscode-notebook-cell:/Users/shreyasprasad/GitHub/handy-py/pytorch.ipynb#X22sZmlsZQ%3D%3D?line=2'>3</a>\u001b[0m \u001b[39m# TODO: fix me to be the 2st derivative of y.sum() w.r.t. to x\u001b[39;00m\n\u001b[1;32m      <a href='vscode-notebook-cell:/Users/shreyasprasad/GitHub/handy-py/pytorch.ipynb#X22sZmlsZQ%3D%3D?line=3'>4</a>\u001b[0m [d2y_dx] \u001b[39m=\u001b[39m [torch\u001b[39m.\u001b[39mautograd\u001b[39m.\u001b[39mgrad(dy_dx\u001b[39m.\u001b[39msum(), [x])]\n",
      "File \u001b[0;32m~/miniforge3/lib/python3.9/site-packages/torch/autograd/__init__.py:275\u001b[0m, in \u001b[0;36mgrad\u001b[0;34m(outputs, inputs, grad_outputs, retain_graph, create_graph, only_inputs, allow_unused, is_grads_batched)\u001b[0m\n\u001b[1;32m    273\u001b[0m     \u001b[39mreturn\u001b[39;00m _vmap_internals\u001b[39m.\u001b[39m_vmap(vjp, \u001b[39m0\u001b[39m, \u001b[39m0\u001b[39m, allow_none_pass_through\u001b[39m=\u001b[39m\u001b[39mTrue\u001b[39;00m)(grad_outputs)\n\u001b[1;32m    274\u001b[0m \u001b[39melse\u001b[39;00m:\n\u001b[0;32m--> 275\u001b[0m     \u001b[39mreturn\u001b[39;00m Variable\u001b[39m.\u001b[39;49m_execution_engine\u001b[39m.\u001b[39;49mrun_backward(  \u001b[39m# Calls into the C++ engine to run the backward pass\u001b[39;49;00m\n\u001b[1;32m    276\u001b[0m         outputs, grad_outputs_, retain_graph, create_graph, inputs,\n\u001b[1;32m    277\u001b[0m         allow_unused, accumulate_grad\u001b[39m=\u001b[39;49m\u001b[39mFalse\u001b[39;49;00m)\n",
      "\u001b[0;31mRuntimeError\u001b[0m: One of the differentiated Tensors appears to not have been used in the graph. Set allow_unused=True if this is the desired behavior."
     ]
    }
   ],
   "source": [
    "# torch.autograd.grad(y.sum(), [x])  # TODO: fix me to be the derivative of y.sum() w.r.t. to x\n",
    "[dy_dx] = [torch.autograd.grad(y.sum(), [x])] \n",
    "# TODO: fix me to be the 2st derivative of y.sum() w.r.t. to x\n",
    "[d2y_dx] = [torch.autograd.grad(dy_dx.sum(), [x])]\n",
    "[d3y_dx] = [torch.autograd.grad(d2y_dx.sum(), [x])]\n",
    "[d4y_dx] = [torch.autograd.grad(d3y_dx.sum(), [x])]\n",
    "\n",
    "# DO NOT CHANGE THE PLOTTING CODE OR TESTS BELOW\n",
    "\n",
    "import matplotlib.pyplot as plt\n",
    "fig, [ax1, ax2] = plt.subplots(1, 2, figsize=(12,4), sharey=True)\n",
    "\n",
    "with torch.no_grad():\n",
    "    ax1.set_title('Power rule')\n",
    "    for i in range(0, 5):\n",
    "        ax1.plot(x, [polynomial, p1, p2, p3, p4][i](x), label=f'$p_{i}(x)$')\n",
    "    ax1.legend()\n",
    "    ax2.set_title('Autograd')\n",
    "    ax2.plot(x, y, label='$y$')\n",
    "    ax2.plot(x, dy_dx, label='$dy/dx$')\n",
    "    for i in [2, 3, 4]:\n",
    "        ax2.plot(x, [d2y_dx, d3y_dx, d4y_dx][i-2], label=f'$d^{i}y/dx$')\n",
    "    ax2.legend()\n",
    "\n",
    "assert(all((p1(x) - dy_dx).abs() < 1e-5))\n",
    "assert(all((p2(x) - d2y_dx).abs() < 1e-5))\n",
    "assert(all((p3(x) - d3y_dx).abs() < 1e-5))\n",
    "assert(all((p4(x) - d4y_dx).abs() < 1e-5))\n"
   ]
  },
  {
   "cell_type": "code",
   "execution_count": null,
   "metadata": {},
   "outputs": [],
   "source": []
  }
 ],
 "metadata": {
  "kernelspec": {
   "display_name": "Python 3.9.10 ('base')",
   "language": "python",
   "name": "python3"
  },
  "language_info": {
   "codemirror_mode": {
    "name": "ipython",
    "version": 3
   },
   "file_extension": ".py",
   "mimetype": "text/x-python",
   "name": "python",
   "nbconvert_exporter": "python",
   "pygments_lexer": "ipython3",
   "version": "3.9.10"
  },
  "orig_nbformat": 4,
  "vscode": {
   "interpreter": {
    "hash": "2a62eb7397e95947974711ad7e3aa515539411275f2fd01cf7995f5d30a231c5"
   }
  }
 },
 "nbformat": 4,
 "nbformat_minor": 2
}
