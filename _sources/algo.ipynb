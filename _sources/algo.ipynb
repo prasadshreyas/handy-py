{
 "cells": [
  {
   "cell_type": "markdown",
   "metadata": {},
   "source": [
    "# Algorithms"
   ]
  },
  {
   "cell_type": "markdown",
   "metadata": {},
   "source": [
    "Table of Contents\n",
    "---\n",
    "\n",
    "1. [Graphs](#graphs)\n",
    "2. [Dynamic Programming](#dynamic-programming)\n",
    "3. [Greedy Algorithms](#greedy-algorithms)\n",
    "4. [Backtracking](#backtracking)\n",
    "5. [Miscellaneous](#miscellaneous)"
   ]
  },
  {
   "cell_type": "markdown",
   "metadata": {},
   "source": [
    "## Graphs\n"
   ]
  },
  {
   "cell_type": "markdown",
   "metadata": {},
   "source": [
    "Graphs are mainly represented as \n",
    "1. Adjacency list\n",
    "2. Adjacency matrix\n",
    "3. Edge list"
   ]
  },
  {
   "cell_type": "markdown",
   "metadata": {},
   "source": [
    "Adjacency list is the most common representation of a graph. It is a list of lists where each list represents a vertex and the elements of the list are the vertices that are adjacent to the vertex."
   ]
  },
  {
   "cell_type": "code",
   "execution_count": 4,
   "metadata": {},
   "outputs": [],
   "source": [
    "matrix = [[0, 1,1], [1, 0,1], [1, 1,0]]"
   ]
  },
  {
   "cell_type": "markdown",
   "metadata": {},
   "source": [
    "> If the graph is undirected, then the adjacency list will be symmetric.\n",
    "\n",
    "\n",
    "Let's check if the above matrix is symmetric - (Without NumPy)"
   ]
  },
  {
   "cell_type": "code",
   "execution_count": 5,
   "metadata": {},
   "outputs": [
    {
     "name": "stdout",
     "output_type": "stream",
     "text": [
      "True\n"
     ]
    }
   ],
   "source": [
    "def is_symmetric(matrix):\n",
    "    for i in range(len(matrix)):\n",
    "        for j in range(len(matrix)):\n",
    "            if matrix[i][j] != matrix[j][i]:\n",
    "                return False\n",
    "    return True\n",
    "print(is_symmetric(matrix))"
   ]
  },
  {
   "cell_type": "markdown",
   "metadata": {},
   "source": [
    "Check if a matrix is symmetric - With NumPy"
   ]
  },
  {
   "cell_type": "code",
   "execution_count": 5,
   "metadata": {},
   "outputs": [
    {
     "name": "stdout",
     "output_type": "stream",
     "text": [
      "True\n"
     ]
    }
   ],
   "source": [
    "import numpy as np\n",
    "\n",
    "def is_symmetric(matrix):\n",
    "    return np.allclose(matrix, np.transpose(matrix))\n",
    "print(is_symmetric(matrix))"
   ]
  },
  {
   "cell_type": "code",
   "execution_count": 6,
   "metadata": {},
   "outputs": [
    {
     "data": {
      "text/plain": [
       "True"
      ]
     },
     "execution_count": 6,
     "metadata": {},
     "output_type": "execute_result"
    }
   ],
   "source": [
    "false = False\n",
    "true = True\n",
    "\n",
    "roadRegister = [[false, true,  true,  false],\n",
    "                [true,  false, true,  false],\n",
    "                [true,  true,  false, true ],\n",
    "                [false, false, true,  false]]\n",
    "\n",
    "def convert(roadRegister):\n",
    "    # Convert the adjacency matrix to an edge list\n",
    "    edges = []\n",
    "    for i in range(len(roadRegister)):\n",
    "        for j in range(len(roadRegister)):\n",
    "            if roadRegister[i][j]:\n",
    "                edges.append((i,j))"
   ]
  },
  {
   "cell_type": "code",
   "execution_count": null,
   "metadata": {},
   "outputs": [],
   "source": []
  },
  {
   "cell_type": "markdown",
   "metadata": {},
   "source": [
    "### Depth First Search (DFS)"
   ]
  }
 ],
 "metadata": {
  "kernelspec": {
   "display_name": "Python 3.9.10 ('base')",
   "language": "python",
   "name": "python3"
  },
  "language_info": {
   "codemirror_mode": {
    "name": "ipython",
    "version": 3
   },
   "file_extension": ".py",
   "mimetype": "text/x-python",
   "name": "python",
   "nbconvert_exporter": "python",
   "pygments_lexer": "ipython3",
   "version": "3.9.10"
  },
  "orig_nbformat": 4,
  "vscode": {
   "interpreter": {
    "hash": "2a62eb7397e95947974711ad7e3aa515539411275f2fd01cf7995f5d30a231c5"
   }
  }
 },
 "nbformat": 4,
 "nbformat_minor": 2
}
